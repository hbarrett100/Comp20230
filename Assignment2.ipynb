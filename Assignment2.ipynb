{
 "cells": [
  {
   "cell_type": "markdown",
   "metadata": {},
   "source": [
    "## Assignment 2"
   ]
  },
  {
   "cell_type": "markdown",
   "metadata": {},
   "source": [
    "### Part 1:\n",
    "\n",
    "### 1) Singly Linked List\n",
    "In the cells below I implement a singly linked list. Briefly, a singly linked list is a collection of nodes. Each node contains a reference to an element and a reference to the next node of the list. The first node of a singly linked list is known as the head and the last node is known as the tail. We can move from the head to the tail of the list by following the reference to each nodes next node. Linked lists have two interesting features - they do not have a predetermined size and they use space proportionally to the current number of elements in the list.\n",
    "\n",
    "In order to implement the singly linked list I create two classes. The first class is the ```Node``` class. Each node stores an element in the list. Each node also contains a reference to the next element in the linked list. "
   ]
  },
  {
   "cell_type": "code",
   "execution_count": 24,
   "metadata": {},
   "outputs": [],
   "source": [
    "class Node: \n",
    "    '''Create a singly linked node'''\n",
    "    \n",
    "    def __init__ (self, data, next_node):\n",
    "        self.__data = data #reference to the element\n",
    "        self.__next_node = next_node #reference to the next element\n",
    "        \n",
    "    def get_data(self):\n",
    "        return self.__data\n",
    "    \n",
    "    def set_data(self, data):\n",
    "        self.__data = data\n",
    "        \n",
    "    def get_next_node(self):\n",
    "        return self.__next_node\n",
    "    \n",
    "    def set_next_node(self, next_node):\n",
    "        self.__next_node = next_node\n",
    "        \n",
    "    def __repr__ (self):\n",
    "        return str(self.__data)\n",
    "        "
   ]
  },
  {
   "cell_type": "markdown",
   "metadata": {},
   "source": [
    "In the cell below the second class ```myLinkedList``` is created. The constructor within this class initialises the head and tail to ```None``` and the size of the list to 0. Thus, an empty linked list is created initially. \n",
    "\n",
    "This class contains five methods. The first method ```add_first``` adds a new node to the start of the linked list. An instance of the ```Node``` class is created and the variable ```head``` is set equal to this new node. The size of the list in increased by 1. The conditional statement within this method accounts for when this method is initially called on an empty list. As this new node is the first node in the list, the variable ```tail``` is also assigned to this node at this point. \n",
    "\n",
    "The method ```add_last``` adds an element to the tail of the linked list. A new instance of the ```Node``` class is created, thus creating a new node in the list. The node next to the variable ```tail``` is assigned to the new node. The variable ```tail``` is then assigned to this new node. The size of the list is increaed by 1. Again, the conditional statement here accounts for when this method is initally called on an empty list. In the case, this new node is also the head of the list. \n",
    "\n",
    "The method ```remove_first``` removes the head of the linked list. The variable ```head``` is moved to the next element in the list and the size of the list decreases by 1. An error is printed if this method is called on an empty list.\n",
    "\n",
    "The method ```list_traversal``` traverses the list from the head to the tail and prints out each element. Each element is printing by moving the pointer from the current element to the next element in the list. \n",
    "\n",
    "Finally, I have added two extra methods. The first is called ```is_empty()``` which returns true if the linked list is empty and false otherwise. The second method ```len()``` returns the size of the linked list. This is implemented so that users can access the size of the linked list in the same way as a regular python list. \n",
    "\n",
    "\n",
    "unittest https://ongspxm.github.io/blog/2016/11/assertraises-testing-for-errors-in-unittest/\n",
    "\n",
    "iter and repr https://stackoverflow.com/questions/41247422/repr-implementation-in-linked-list-in-python\n",
    "\n",
    "https://www.programiz.com/python-programming/iterator"
   ]
  },
  {
   "cell_type": "code",
   "execution_count": 25,
   "metadata": {},
   "outputs": [],
   "source": [
    "class myLinkedList: \n",
    "    ''' Create a linked list'''\n",
    "    \n",
    "    def __init__ (self):\n",
    "        '''initialise the linked list attributes'''\n",
    "        self.__head = None #initalise head to None\n",
    "        self.__size = 0 #initialise the size of the list to zero\n",
    "        self.__tail = None #initialise the tail to None\n",
    "        \n",
    "    def get_first(self):\n",
    "        if self.__head == None:\n",
    "            raise Exception(\"Error. The list is empty\")\n",
    "        else:\n",
    "            return self.__head.get_data()\n",
    "    \n",
    "    def get_last(self):\n",
    "        if self.__head == None:\n",
    "            raise Exception(\"Error. The list is empty\")\n",
    "        else:\n",
    "            return self.__tail.get_data()\n",
    "    \n",
    "    def add_first(self, data):\n",
    "        '''insert element at head of the linked list'''\n",
    "        new_node = Node(data, self.__head) #create an instance of the Node class\n",
    "        self.__head = new_node #set the head of the list equal to the new node\n",
    "        if self.__size == 0: #if the list was empty the new head is also the tail\n",
    "            self.__tail = self.__head \n",
    "        self.__size += 1 #increment the size of the linked list \n",
    "        \n",
    "    def add_last(self, data):\n",
    "        '''insert element at tail of the linked list'''\n",
    "        new_node = Node(data, None) #create an instance of the Node class\n",
    "        if self.__size == 0: #if the list was empty, the tail is equal to the new node\n",
    "            self.__tail = new_node\n",
    "            self.__head = self.__tail #head is equal to the tail \n",
    "        else:\n",
    "            #if list wasn't empty then the element next to the tail is the new node\n",
    "            self.__tail.set_next_node(new_node) \n",
    "            self.__tail = new_node #tail is equal to the new node\n",
    "        self.__size += 1 #increment the size of the linked list\n",
    "           \n",
    "    def remove_first(self):\n",
    "        '''remove the head of the linked list without returning it\n",
    "        \n",
    "        return an error if the list is empty'''\n",
    "        if self.__head == None:\n",
    "            raise Exception(\"Error. The list is empty\")\n",
    "        else: \n",
    "            self.__head = self.__head.get_next_node() #the head is equal to the next element\n",
    "            self.__size -= 1 #decrement the size of the linked list\n",
    "    \n",
    "#     def list_traversal(self):\n",
    "#         '''print out all elements of the linked list'''\n",
    "#         current = self.__head #set current equal to the head \n",
    "#         while current is not None: #while the head is not None\n",
    "#             print(current.get_data()) #print the current element\n",
    "#             current = current.get_next_node() #current element is equal to next element\n",
    "            \n",
    "    def is_empty(self):\n",
    "        '''return true if the linked list is empty'''\n",
    "        return self.__size == 0 #return true if the list is empty\n",
    "    \n",
    "    def __len__ (self):\n",
    "        '''return the length of the linked list'''\n",
    "        return self.__size\n",
    "\n",
    "    def search(self, data):\n",
    "        '''return true if a specific element is in the linked list, false otherwise'''\n",
    "        current = self.__head #start at the head of the list\n",
    "        while current is not None: \n",
    "            if current.get_data() == data: #return true if element is found\n",
    "                return True\n",
    "            current = current.get_next_node() #move current pointer to next element\n",
    "        return False\n",
    "    \n",
    "    def get_data_at_rank(self, rank):\n",
    "        '''return the data at the specified position in the linked list'''\n",
    "        current = self.__head\n",
    "        count = 0  \n",
    "        while current is not None:\n",
    "            if count == rank: #return the element when we get to the specified rank in list\n",
    "                return current.get_data() \n",
    "            count += 1\n",
    "            current = current.get_next_node() #move to next node in linked list\n",
    "            \n",
    "        raise Exception(\"This position does not exist in the linked list\")\n",
    "        return\n",
    "    \n",
    "    def __iter__(self):\n",
    "        '''iterates over the element in the linked list'''\n",
    "        current = self.__head #assign current variable as head of linked list\n",
    "        while current is not None: \n",
    "            yield current\n",
    "            current = current.get_next_node() #move to next node in list\n",
    "            \n",
    "    def __repr__ (self):\n",
    "        '''Allows linked list to be printed in the following format'''\n",
    "        return \"{}\".format(\", \".join(map(str, self))) "
   ]
  },
  {
   "cell_type": "markdown",
   "metadata": {},
   "source": [
    "We will now run some unit tests on the class ```myLinkedList```."
   ]
  },
  {
   "cell_type": "code",
   "execution_count": 26,
   "metadata": {},
   "outputs": [
    {
     "name": "stderr",
     "output_type": "stream",
     "text": [
      "test_add_first (__main__.TestLinkedList) ... ok\n",
      "test_add_last (__main__.TestLinkedList) ... ok\n",
      "test_get_data_at_rank (__main__.TestLinkedList) ... ok\n",
      "test_get_first (__main__.TestLinkedList) ... ok\n",
      "test_get_last (__main__.TestLinkedList) ... ok\n",
      "test_is_empty (__main__.TestLinkedList) ... ok\n",
      "test_remove_first (__main__.TestLinkedList) ... ok\n",
      "test_search (__main__.TestLinkedList) ... ok\n",
      "test_is_empty (__main__.TestStack) ... ok\n",
      "test_pop (__main__.TestStack) ... ok\n",
      "test_push (__main__.TestStack) ... ok\n",
      "test_search (__main__.TestStack) ... ok\n",
      "test_top (__main__.TestStack) ... ok\n",
      "\n",
      "----------------------------------------------------------------------\n",
      "Ran 13 tests in 0.038s\n",
      "\n",
      "OK\n"
     ]
    },
    {
     "data": {
      "text/plain": [
       "<unittest.main.TestProgram at 0x103f62b90>"
      ]
     },
     "execution_count": 26,
     "metadata": {},
     "output_type": "execute_result"
    }
   ],
   "source": [
    "import unittest\n",
    "\n",
    "class TestLinkedList(unittest.TestCase):\n",
    "\n",
    "    def test_add_first(self):\n",
    "        l = myLinkedList()\n",
    "        l.add_first(1)\n",
    "        self.assertTrue(len(l)==1)\n",
    "        self.assertEqual(l.get_first(), 1)\n",
    "        l.add_first(2)\n",
    "        self.assertEqual(l.get_first(), 2)\n",
    "        l.add_first(4)\n",
    "        self.assertEqual(l.get_first(), 4)\n",
    "        \n",
    "    def test_get_first(self):\n",
    "        l = myLinkedList()\n",
    "        self.assertRaises(Exception, l.get_first)\n",
    "        l.add_first(1)\n",
    "        self.assertEqual(l.get_first(), 1)\n",
    "        l.add_first(3)\n",
    "        self.assertEqual(l.get_first(), 3)\n",
    "        l.add_last(4)\n",
    "        self.assertEqual(l.get_first(), 3)\n",
    "        \n",
    "    def test_add_last(self):\n",
    "        l = myLinkedList()\n",
    "        l.add_last(2)\n",
    "        self.assertTrue(len(l)==1)\n",
    "        self.assertEqual(l.get_last(), 2)\n",
    "        l.add_last(3)\n",
    "        self.assertEqual(l.get_last(), 3)\n",
    "\n",
    "    def test_get_last(self):\n",
    "        l = myLinkedList()\n",
    "        self.assertRaises(Exception, l.get_last)\n",
    "        l.add_first(4)\n",
    "        l.add_last(7)\n",
    "        self.assertEqual(l.get_last(), 7)\n",
    "        l.add_last(8)\n",
    "        self.assertEqual(l.get_last(), 8)\n",
    "        \n",
    "    def test_remove_first(self):\n",
    "        l = myLinkedList()\n",
    "        self.assertRaises(Exception, l.remove_first)\n",
    "        l.add_first(4)\n",
    "        l.add_last(7)\n",
    "        l.remove_first()\n",
    "        self.assertEqual(l.get_first(), 7)\n",
    "        l.add_first(1)\n",
    "        l.remove_first()\n",
    "        self.assertEqual(l.get_first(), 7)\n",
    "           \n",
    "    def test_is_empty(self):\n",
    "        l = myLinkedList()\n",
    "        self.assertTrue(l.is_empty())\n",
    "        l.add_first(2)\n",
    "        self.assertFalse(l.is_empty())\n",
    "        \n",
    "    def test_search(self):\n",
    "        l = myLinkedList()\n",
    "        l.add_first(2)\n",
    "        self.assertTrue(l.search(2))\n",
    "        self.assertFalse(l.search(1))\n",
    "        l.add_first(1)\n",
    "        self.assertTrue(l.search(1))\n",
    "        \n",
    "    def test_get_data_at_rank(self):\n",
    "        l = myLinkedList()\n",
    "        l.add_first(2)\n",
    "        self.assertEqual(l.get_data_at_rank(0), 2)\n",
    "        l.add_first(1)\n",
    "        self.assertEqual(l.get_data_at_rank(0), 1)\n",
    "        self.assertRaises(Exception, l.get_data_at_rank, 2)\n",
    "        \n",
    "unittest.main(argv=[''], verbosity=2, exit=False)"
   ]
  },
  {
   "cell_type": "markdown",
   "metadata": {},
   "source": [
    "We can see above that all methods with ```myLinkedList``` are working correctly. As a finbal check, in the cells below we run some further tests on the linked list created above. We begin by creating an instance of the linked list."
   ]
  },
  {
   "cell_type": "code",
   "execution_count": 27,
   "metadata": {},
   "outputs": [],
   "source": [
    "#create linked list\n",
    "l = myLinkedList()"
   ]
  },
  {
   "cell_type": "markdown",
   "metadata": {},
   "source": [
    "We now add an element to the head of the list and print out the list. "
   ]
  },
  {
   "cell_type": "code",
   "execution_count": 28,
   "metadata": {},
   "outputs": [
    {
     "name": "stdout",
     "output_type": "stream",
     "text": [
      "Apple\n"
     ]
    }
   ],
   "source": [
    "#add element to head of list\n",
    "l.add_first(\"Apple\")\n",
    "#print contents of list\n",
    "print(l)"
   ]
  },
  {
   "cell_type": "markdown",
   "metadata": {},
   "source": [
    "In the cell below we will test the ```is_empty``` method. We expect the answer to be ```false``` as the list is not empty. "
   ]
  },
  {
   "cell_type": "code",
   "execution_count": 29,
   "metadata": {},
   "outputs": [
    {
     "data": {
      "text/plain": [
       "False"
      ]
     },
     "execution_count": 29,
     "metadata": {},
     "output_type": "execute_result"
    }
   ],
   "source": [
    "#check if list is empty.\n",
    "l.is_empty()"
   ]
  },
  {
   "cell_type": "markdown",
   "metadata": {},
   "source": [
    "We now add another element to the head of the list and print out the list. We will see that the new element will have replaced \"Apple\" as the head of the list. "
   ]
  },
  {
   "cell_type": "code",
   "execution_count": 30,
   "metadata": {},
   "outputs": [
    {
     "name": "stdout",
     "output_type": "stream",
     "text": [
      "Banana, Apple\n"
     ]
    }
   ],
   "source": [
    "#add new element to head of list\n",
    "l.add_first(\"Banana\")\n",
    "#print contents of list\n",
    "print(l)"
   ]
  },
  {
   "cell_type": "code",
   "execution_count": 31,
   "metadata": {},
   "outputs": [
    {
     "name": "stdout",
     "output_type": "stream",
     "text": [
      "Banana, Apple\n"
     ]
    }
   ],
   "source": [
    "print(l)"
   ]
  },
  {
   "cell_type": "code",
   "execution_count": 32,
   "metadata": {},
   "outputs": [
    {
     "name": "stdout",
     "output_type": "stream",
     "text": [
      "Banana\n",
      "Apple\n"
     ]
    }
   ],
   "source": [
    "for x in l:\n",
    "    print(x)"
   ]
  },
  {
   "cell_type": "markdown",
   "metadata": {},
   "source": [
    "We now add an element to the end of the list. "
   ]
  },
  {
   "cell_type": "code",
   "execution_count": 33,
   "metadata": {},
   "outputs": [
    {
     "name": "stdout",
     "output_type": "stream",
     "text": [
      "Banana, Apple, jiji\n"
     ]
    }
   ],
   "source": [
    "#add element to end of list\n",
    "l.add_last(\"jiji\")\n",
    "#print contents of list\n",
    "print(l)"
   ]
  },
  {
   "cell_type": "markdown",
   "metadata": {},
   "source": [
    "We now check that the size of the list is 3. \n"
   ]
  },
  {
   "cell_type": "code",
   "execution_count": 34,
   "metadata": {},
   "outputs": [
    {
     "data": {
      "text/plain": [
       "3"
      ]
     },
     "execution_count": 34,
     "metadata": {},
     "output_type": "execute_result"
    }
   ],
   "source": [
    "#print out size of list\n",
    "len(l)"
   ]
  },
  {
   "cell_type": "markdown",
   "metadata": {},
   "source": [
    "We now remove the head of the list. We expect \"Banana\" to be removed. "
   ]
  },
  {
   "cell_type": "code",
   "execution_count": 35,
   "metadata": {},
   "outputs": [
    {
     "name": "stdout",
     "output_type": "stream",
     "text": [
      "Apple, jiji\n"
     ]
    }
   ],
   "source": [
    "#remove head of list\n",
    "l.remove_first()\n",
    "#print contents of list\n",
    "print(l)"
   ]
  },
  {
   "cell_type": "markdown",
   "metadata": {},
   "source": [
    "We now check that the size of the list has decreased to 2. This time we will do this by calling the ```len``` method."
   ]
  },
  {
   "cell_type": "code",
   "execution_count": 36,
   "metadata": {},
   "outputs": [
    {
     "data": {
      "text/plain": [
       "2"
      ]
     },
     "execution_count": 36,
     "metadata": {},
     "output_type": "execute_result"
    }
   ],
   "source": [
    "#print out size of list\n",
    "len(l)"
   ]
  },
  {
   "cell_type": "markdown",
   "metadata": {},
   "source": [
    "We now check that the element 'Apple' is in the list. We expect True to be returned. "
   ]
  },
  {
   "cell_type": "code",
   "execution_count": 37,
   "metadata": {},
   "outputs": [
    {
     "data": {
      "text/plain": [
       "True"
      ]
     },
     "execution_count": 37,
     "metadata": {},
     "output_type": "execute_result"
    }
   ],
   "source": [
    "#search for element\n",
    "l.search('Apple')"
   ]
  },
  {
   "cell_type": "markdown",
   "metadata": {},
   "source": [
    "We now get the data at rank 1 from the list. This will be the second element in the linked list. "
   ]
  },
  {
   "cell_type": "code",
   "execution_count": 38,
   "metadata": {},
   "outputs": [
    {
     "data": {
      "text/plain": [
       "'jiji'"
      ]
     },
     "execution_count": 38,
     "metadata": {},
     "output_type": "execute_result"
    }
   ],
   "source": [
    "#get the element at rank 1 in the list\n",
    "l.get_data_at_rank(1)"
   ]
  },
  {
   "cell_type": "markdown",
   "metadata": {},
   "source": [
    "We can see that all methods within the class are working correctly. "
   ]
  },
  {
   "cell_type": "markdown",
   "metadata": {},
   "source": [
    "### Part 1 \n",
    "\n",
    "### 2) Stack ADT & Queue ADT\n",
    "\n",
    "**Define in your own words the terms stack ADT and queue ADT**\n",
    "\n",
    "- A stack ADT is a collection of elements that are added and removed from one end only, known as the \"top\". In other words, the stack follows the last-in, first-out principle.\n",
    "\n",
    "- A queue ADT is a collection of elements which follow the first-in, first-out principle. Elements are added to one end of the queue and removed from the other end. Only the element that has been in the queue the longest is removed. \n",
    "\n",
    "**List the key operations and support operations commonly associated with the ADTs**\n",
    "\n",
    "Stack ADT: \n",
    "- The key operations are push( ) and pop( ).\n",
    "- The support operations are top( ), is_empty( ) and len( ).\n",
    "\n",
    "Queue ADT:\n",
    "- The key operations are enqueue( ) and dequeue( ).\n",
    "- The support operations are first( ), is_empty( ) and len( ).\n",
    "\n",
    "**For each ADT give two real world examples and explain them briefly**\n",
    "\n",
    "Stack ADT:\n",
    "- Example 1: The stack ADT is used in the validation of markup languages such as HTML. A HTML document contains 'HTML tags' throughout in order to delimit portions of text such a headers and paragraphs. The beginning tag is surrounded by \"<\" and \">\" and the ending tag begins with \"</\" and ends with \">\". A HTML document should have matching tags and this is where the stack ADT is used. The document is searched and all opening tags \"<\" are pushed on to the stack. They are then matched with closing tags as they are popped from the stack. (REF BOOK)\n",
    "\n",
    "- Example 2: As described at https://pdfs.semanticscholar.org/ce46/fd8d181c71eb192c5a8f75f716281669226c.pdf, the stack ADT is used to navigate back/forward to different web pages on a web browser. Essentially, a stack of visited pages is created. Clicking on or typing a link adds a webpage to the top of the stack. When the back button is pressed, the stack pointer moves down the stack pile and disaplys the webpage at that stack location. Similarly, when the forward button is pressed, the stack pointer moves up the stack pile. If a user is on a webpage inside the stack and they type or click on a new link, all webpages above the current position are popped off the stack and the new one is pushed on top. \n",
    "\n",
    "\n",
    "Queue ADT:\n",
    "- Example 1: As described at http://people.cs.ksu.edu/~schmidt/300s05/Lectures/Week5.html, one use for the queue ADT is a networked printer. The operating system forms a queue of processes which are waiting to use the printer. Once a process is using the printer, it can continue until finished. The unique id of all other waiting processes are kept in the queue. Once the current process is finished using the printer, the process id that has been in the queue the longest can now use the printer.\n",
    "- Example 2: A customer call centre uses a queue ADT to manage incoming calls. Each time a customer service employee becomes available, they are connected to the call that was removed from the front of the queue and all customers who call in are added to the end of the waiting queue. (REF BOOK)"
   ]
  },
  {
   "cell_type": "markdown",
   "metadata": {},
   "source": [
    "### Part 2: Stack ADT\n",
    "\n",
    "**1) Adopt the ADT concepts from part 1 above to provide a complete implementation of a stack ADT.**\n",
    "\n",
    "In the cell below I implement a stack ADT. To implement the stack ADT I used a singly linked list. It would also be possible to implement the stack ADT using a python list however, as described at https://en.wikipedia.org/wiki/Linked_list, a linked list is often a better choice. This is because elements can be added indefinitely to a linked list, while an array will eventually either fill up or need to be resized. \n",
    "\n",
    "After deciding to use a linked list to implement the stack ADT, the next choice is where in the linked list to orient the top of the stack. As described in part 1, elements are added to and removed from the same end of the stack. We saw in the implementation of the linked list in part 1 that elements can easily be added and removed from the head of the list. Furthermore, these operations perform in constant time. On the otherhand, removing an element from the tail of a linked list is not as straightforward. In order to keep a reference to the last node of the list, it would be necessary to access the node before the tail node. However, this would involve starting at the head of the list and traversing the entire list until reaching the node before the tail. As a result, we choose to orient the top of the stack at the head of the linked list. "
   ]
  },
  {
   "cell_type": "code",
   "execution_count": 16,
   "metadata": {},
   "outputs": [],
   "source": [
    "class MyStack:\n",
    "    '''Implementation of a stack using a linked list'''\n",
    "\n",
    "    def __init__ (self):\n",
    "        '''create empty stack'''\n",
    "        self.__linked_list = myLinkedList()\n",
    "        \n",
    "    def __len__(self):\n",
    "        '''return the number of elements in the stack'''\n",
    "        return len(self.__linked_list)\n",
    "    \n",
    "    def is_empty(self):\n",
    "        '''return true if the stack is empty'''\n",
    "        return len(self.__linked_list) == 0\n",
    "    \n",
    "    def push(self, data):\n",
    "        '''Add element to top of stack'''\n",
    "        self.__linked_list.add_first(data)\n",
    "            \n",
    "    def pop(self):\n",
    "        '''remove and return element from top of stack.\n",
    "        \n",
    "        Return an error if the list is empty.'''\n",
    "        if self.is_empty():\n",
    "            raise Exception(\"Error. Stack is empty.\")\n",
    "        top_of_stack = self.__linked_list.get_first()\n",
    "        self.__linked_list.remove_first()\n",
    "        return top_of_stack\n",
    "        \n",
    "    def top(self):\n",
    "        '''return but do not remove the last element added to the stack\n",
    "        \n",
    "        Return an error if the stack is empty'''\n",
    "        if self.is_empty():\n",
    "            raise Exception(\"Error. Stack is empty.\")\n",
    "        else: \n",
    "            return self.__linked_list.get_first()\n",
    "        \n",
    "    def stack_traversal(self):\n",
    "        '''print out all elements of the stack'''\n",
    "        self.__linked_list.list_traversal()\n",
    "        \n",
    "    def search(self, data):\n",
    "        return self.__linked_list.search(data)\n",
    "    "
   ]
  },
  {
   "cell_type": "markdown",
   "metadata": {},
   "source": [
    "We will now add some unit testing to ensure that the methods within the class ```MyStack``` are working correctly. "
   ]
  },
  {
   "cell_type": "code",
   "execution_count": 17,
   "metadata": {},
   "outputs": [
    {
     "name": "stderr",
     "output_type": "stream",
     "text": [
      "test_add_first (__main__.TestLinkedList) ... ok\n",
      "test_add_last (__main__.TestLinkedList) ... ok\n",
      "test_get_data_at_rank (__main__.TestLinkedList) ... ok\n",
      "test_get_first (__main__.TestLinkedList) ... ok\n",
      "test_get_last (__main__.TestLinkedList) ... ok\n",
      "test_is_empty (__main__.TestLinkedList) ... ok\n",
      "test_remove_first (__main__.TestLinkedList) ... ok\n",
      "test_search (__main__.TestLinkedList) ... ok\n",
      "test_is_empty (__main__.TestStack) ... ok\n",
      "test_pop (__main__.TestStack) ... ok\n",
      "test_push (__main__.TestStack) ... ok\n",
      "test_search (__main__.TestStack) ... ok\n",
      "test_top (__main__.TestStack) ... ok\n",
      "\n",
      "----------------------------------------------------------------------\n",
      "Ran 13 tests in 0.028s\n",
      "\n",
      "OK\n"
     ]
    },
    {
     "data": {
      "text/plain": [
       "<unittest.main.TestProgram at 0x103ecc5d0>"
      ]
     },
     "execution_count": 17,
     "metadata": {},
     "output_type": "execute_result"
    }
   ],
   "source": [
    "import unittest\n",
    "\n",
    "class TestStack(unittest.TestCase):\n",
    "\n",
    "    def test_push(self):\n",
    "        s = MyStack()\n",
    "        s.push(1)\n",
    "        self.assertTrue(len(s)==1)\n",
    "        self.assertEqual(s.top(), 1)\n",
    "        s.push(2)\n",
    "        self.assertEqual(s.top(), 2)\n",
    "        s.push(4)\n",
    "        self.assertEqual(s.top(), 4)\n",
    "        \n",
    "    def test_top(self):\n",
    "        s = MyStack()\n",
    "        self.assertRaises(Exception, s.top)\n",
    "        s.push(1)\n",
    "        self.assertEqual(s.top(), 1)\n",
    "        s.push(3)\n",
    "        self.assertEqual(s.top(), 3)\n",
    "        s.push(4)\n",
    "        self.assertEqual(s.top(), 4)\n",
    "        \n",
    "    def test_pop(self):\n",
    "        s = MyStack()\n",
    "        self.assertRaises(Exception, s.pop)\n",
    "        s.push(4)\n",
    "        s.push(7)\n",
    "        s.pop()\n",
    "        self.assertEqual(s.top(), 4)\n",
    "        s.push(1)\n",
    "        s.pop()\n",
    "        self.assertEqual(s.top(), 4)\n",
    "           \n",
    "    def test_is_empty(self):\n",
    "        s = MyStack()\n",
    "        self.assertTrue(s.is_empty())\n",
    "        s.push(2)\n",
    "        self.assertFalse(s.is_empty())\n",
    "        \n",
    "    def test_search(self):\n",
    "        s = MyStack()\n",
    "        s.push(2)\n",
    "        self.assertTrue(s.search(2))\n",
    "        self.assertFalse(s.search(1))\n",
    "        s.push(1)\n",
    "        self.assertTrue(s.search(1))\n",
    "      \n",
    "unittest.main(argv=[''], verbosity=2, exit=False)"
   ]
  },
  {
   "cell_type": "markdown",
   "metadata": {},
   "source": [
    "Q2 below implements some tests on some of the methods above. However, as I have added extra methods I will now run some tests on these to ensure they are working correctly. "
   ]
  },
  {
   "cell_type": "code",
   "execution_count": 18,
   "metadata": {},
   "outputs": [],
   "source": [
    "#create an empty stack\n",
    "s_test = MyStack()"
   ]
  },
  {
   "cell_type": "markdown",
   "metadata": {},
   "source": [
    "Next we add 1 to the stack. Nothing will be returned. "
   ]
  },
  {
   "cell_type": "code",
   "execution_count": 19,
   "metadata": {},
   "outputs": [],
   "source": [
    "#add element to stack\n",
    "s_test.push(1)"
   ]
  },
  {
   "cell_type": "markdown",
   "metadata": {},
   "source": [
    "Next we add 1 to the stack. Nothing will be returned. "
   ]
  },
  {
   "cell_type": "code",
   "execution_count": 20,
   "metadata": {},
   "outputs": [],
   "source": [
    "#add element to stack\n",
    "s_test.push(4)"
   ]
  },
  {
   "cell_type": "markdown",
   "metadata": {},
   "source": [
    "Next, we check that the size of the stack is 2. "
   ]
  },
  {
   "cell_type": "code",
   "execution_count": 21,
   "metadata": {},
   "outputs": [
    {
     "data": {
      "text/plain": [
       "2"
      ]
     },
     "execution_count": 21,
     "metadata": {},
     "output_type": "execute_result"
    }
   ],
   "source": [
    "#get the size of the stack\n",
    "len(s_test)"
   ]
  },
  {
   "cell_type": "markdown",
   "metadata": {},
   "source": [
    "We now search for '1' in the stack. We expect 'True' to be returned. "
   ]
  },
  {
   "cell_type": "code",
   "execution_count": 22,
   "metadata": {},
   "outputs": [
    {
     "data": {
      "text/plain": [
       "True"
      ]
     },
     "execution_count": 22,
     "metadata": {},
     "output_type": "execute_result"
    }
   ],
   "source": [
    "#search the stack for 1\n",
    "s_test.search(1)"
   ]
  },
  {
   "cell_type": "markdown",
   "metadata": {},
   "source": [
    "We now traverse the stack and print out all elements. "
   ]
  },
  {
   "cell_type": "code",
   "execution_count": 23,
   "metadata": {},
   "outputs": [
    {
     "ename": "AttributeError",
     "evalue": "'myLinkedList' object has no attribute 'list_traversal'",
     "output_type": "error",
     "traceback": [
      "\u001b[0;31m---------------------------------------------------------------------------\u001b[0m",
      "\u001b[0;31mAttributeError\u001b[0m                            Traceback (most recent call last)",
      "\u001b[0;32m<ipython-input-23-a740f75d83c5>\u001b[0m in \u001b[0;36m<module>\u001b[0;34m\u001b[0m\n\u001b[1;32m      1\u001b[0m \u001b[0;31m#print out all elements in the stack\u001b[0m\u001b[0;34m\u001b[0m\u001b[0;34m\u001b[0m\u001b[0;34m\u001b[0m\u001b[0m\n\u001b[0;32m----> 2\u001b[0;31m \u001b[0ms_test\u001b[0m\u001b[0;34m.\u001b[0m\u001b[0mstack_traversal\u001b[0m\u001b[0;34m(\u001b[0m\u001b[0;34m)\u001b[0m\u001b[0;34m\u001b[0m\u001b[0;34m\u001b[0m\u001b[0m\n\u001b[0m",
      "\u001b[0;32m<ipython-input-16-c61f77103bba>\u001b[0m in \u001b[0;36mstack_traversal\u001b[0;34m(self)\u001b[0m\n\u001b[1;32m     39\u001b[0m     \u001b[0;32mdef\u001b[0m \u001b[0mstack_traversal\u001b[0m\u001b[0;34m(\u001b[0m\u001b[0mself\u001b[0m\u001b[0;34m)\u001b[0m\u001b[0;34m:\u001b[0m\u001b[0;34m\u001b[0m\u001b[0;34m\u001b[0m\u001b[0m\n\u001b[1;32m     40\u001b[0m         \u001b[0;34m'''print out all elements of the stack'''\u001b[0m\u001b[0;34m\u001b[0m\u001b[0;34m\u001b[0m\u001b[0m\n\u001b[0;32m---> 41\u001b[0;31m         \u001b[0mself\u001b[0m\u001b[0;34m.\u001b[0m\u001b[0m__linked_list\u001b[0m\u001b[0;34m.\u001b[0m\u001b[0mlist_traversal\u001b[0m\u001b[0;34m(\u001b[0m\u001b[0;34m)\u001b[0m\u001b[0;34m\u001b[0m\u001b[0;34m\u001b[0m\u001b[0m\n\u001b[0m\u001b[1;32m     42\u001b[0m \u001b[0;34m\u001b[0m\u001b[0m\n\u001b[1;32m     43\u001b[0m     \u001b[0;32mdef\u001b[0m \u001b[0msearch\u001b[0m\u001b[0;34m(\u001b[0m\u001b[0mself\u001b[0m\u001b[0;34m,\u001b[0m \u001b[0mdata\u001b[0m\u001b[0;34m)\u001b[0m\u001b[0;34m:\u001b[0m\u001b[0;34m\u001b[0m\u001b[0;34m\u001b[0m\u001b[0m\n",
      "\u001b[0;31mAttributeError\u001b[0m: 'myLinkedList' object has no attribute 'list_traversal'"
     ]
    }
   ],
   "source": [
    "#print out all elements in the stack\n",
    "s_test.stack_traversal()"
   ]
  },
  {
   "cell_type": "markdown",
   "metadata": {},
   "source": [
    "We now return the first element from the top of the stack. This should not remove the element from the stack."
   ]
  },
  {
   "cell_type": "code",
   "execution_count": null,
   "metadata": {},
   "outputs": [],
   "source": [
    "#return the element at the top of the stack\n",
    "s_test.top()"
   ]
  },
  {
   "cell_type": "markdown",
   "metadata": {},
   "source": [
    "We now check to ensure that the size of the stack is still 2."
   ]
  },
  {
   "cell_type": "code",
   "execution_count": null,
   "metadata": {},
   "outputs": [],
   "source": [
    "#get the size of the stack\n",
    "len(s_test)"
   ]
  },
  {
   "cell_type": "markdown",
   "metadata": {},
   "source": [
    "Next, we test that the pop() method is working by removing the element from the top of the stack."
   ]
  },
  {
   "cell_type": "code",
   "execution_count": null,
   "metadata": {},
   "outputs": [],
   "source": [
    "#remove the element from the top of the stack\n",
    "s_test.pop()"
   ]
  },
  {
   "cell_type": "markdown",
   "metadata": {},
   "source": [
    "We now check that the stack is not empty. We expect 'False' to be returned. "
   ]
  },
  {
   "cell_type": "code",
   "execution_count": null,
   "metadata": {},
   "outputs": [],
   "source": [
    "#check if the stack is empty.\n",
    "s_test.is_empty()"
   ]
  },
  {
   "cell_type": "markdown",
   "metadata": {},
   "source": [
    "**2) What values are returned when the following series of stack operations is executed upon an initially empty stack?**\n",
    "\n",
    "In the cell below I will create an empty stack s."
   ]
  },
  {
   "cell_type": "code",
   "execution_count": null,
   "metadata": {},
   "outputs": [],
   "source": [
    "#create empty stack\n",
    "s = MyStack()"
   ]
  },
  {
   "cell_type": "markdown",
   "metadata": {},
   "source": [
    "I will now perform a series of operations on this stack and will document the expected output throughout. I will print the content of the stack after each operation using the stack_traversal method defined above. \n",
    "\n",
    "After the following operation, nothing will be returned and the stack will contain 5."
   ]
  },
  {
   "cell_type": "code",
   "execution_count": null,
   "metadata": {},
   "outputs": [],
   "source": [
    "s.push(5)\n",
    "s.stack_traversal()"
   ]
  },
  {
   "cell_type": "markdown",
   "metadata": {},
   "source": [
    "After the following operation, nothing will be returned and the stack will contain 3,5"
   ]
  },
  {
   "cell_type": "code",
   "execution_count": null,
   "metadata": {},
   "outputs": [],
   "source": [
    "s.push(3)\n",
    "s.stack_traversal()"
   ]
  },
  {
   "cell_type": "markdown",
   "metadata": {},
   "source": [
    "After the following operation, 3 will be returned and the stack will contain 5"
   ]
  },
  {
   "cell_type": "code",
   "execution_count": null,
   "metadata": {},
   "outputs": [],
   "source": [
    "s.pop()\n",
    "s.stack_traversal()"
   ]
  },
  {
   "cell_type": "markdown",
   "metadata": {},
   "source": [
    "After the following operation, nothing will be returned and the stack will contain 2,5."
   ]
  },
  {
   "cell_type": "code",
   "execution_count": null,
   "metadata": {},
   "outputs": [],
   "source": [
    "s.push(2)\n",
    "s.stack_traversal()"
   ]
  },
  {
   "cell_type": "markdown",
   "metadata": {},
   "source": [
    "After the following operation, nothing will be returned and the stack will contain 8,2,5"
   ]
  },
  {
   "cell_type": "code",
   "execution_count": null,
   "metadata": {},
   "outputs": [],
   "source": [
    "s.push(8)\n",
    "s.stack_traversal()"
   ]
  },
  {
   "cell_type": "markdown",
   "metadata": {},
   "source": [
    "After the following operation, 8 will be returned and the stack will contain 2,5."
   ]
  },
  {
   "cell_type": "code",
   "execution_count": null,
   "metadata": {},
   "outputs": [],
   "source": [
    "s.pop()\n",
    "s.stack_traversal()"
   ]
  },
  {
   "cell_type": "markdown",
   "metadata": {},
   "source": [
    "After the following operation, 2 will be returned and the stack will contain 5."
   ]
  },
  {
   "cell_type": "code",
   "execution_count": null,
   "metadata": {},
   "outputs": [],
   "source": [
    "s.pop()\n",
    "s.stack_traversal()"
   ]
  },
  {
   "cell_type": "markdown",
   "metadata": {},
   "source": [
    "After the following operation, nothing will be returned and the stack will contain 9,5."
   ]
  },
  {
   "cell_type": "code",
   "execution_count": null,
   "metadata": {},
   "outputs": [],
   "source": [
    "s.push(9)\n",
    "s.stack_traversal()"
   ]
  },
  {
   "cell_type": "markdown",
   "metadata": {},
   "source": [
    "After the following operation, nothing will be returned and the stack will contain 1,9,5."
   ]
  },
  {
   "cell_type": "code",
   "execution_count": null,
   "metadata": {},
   "outputs": [],
   "source": [
    "s.push(1)\n",
    "s.stack_traversal()"
   ]
  },
  {
   "cell_type": "markdown",
   "metadata": {},
   "source": [
    "After the following operation, 1 will be returned and the stack will contain 9,5."
   ]
  },
  {
   "cell_type": "code",
   "execution_count": null,
   "metadata": {},
   "outputs": [],
   "source": [
    "s.pop()\n",
    "s.stack_traversal()"
   ]
  },
  {
   "cell_type": "markdown",
   "metadata": {},
   "source": [
    "After the following operation, nothing will be returned and the stack will contain 7,9,5."
   ]
  },
  {
   "cell_type": "code",
   "execution_count": null,
   "metadata": {},
   "outputs": [],
   "source": [
    "s.push(7)\n",
    "s.stack_traversal()"
   ]
  },
  {
   "cell_type": "markdown",
   "metadata": {},
   "source": [
    "After the following operation, nothing will be returned and the stack will contain 6,7,9,5."
   ]
  },
  {
   "cell_type": "code",
   "execution_count": null,
   "metadata": {},
   "outputs": [],
   "source": [
    "s.push(6)\n",
    "s.stack_traversal()"
   ]
  },
  {
   "cell_type": "markdown",
   "metadata": {},
   "source": [
    "After the following operation, 6 will be returned and the stack will contain 7,9,5."
   ]
  },
  {
   "cell_type": "code",
   "execution_count": null,
   "metadata": {},
   "outputs": [],
   "source": [
    "s.pop()\n",
    "s.stack_traversal()"
   ]
  },
  {
   "cell_type": "markdown",
   "metadata": {},
   "source": [
    "After the following operation, 7 will be returned and the stack will contain 9,5."
   ]
  },
  {
   "cell_type": "code",
   "execution_count": null,
   "metadata": {},
   "outputs": [],
   "source": [
    "s.pop()\n",
    "s.stack_traversal()"
   ]
  },
  {
   "cell_type": "markdown",
   "metadata": {},
   "source": [
    "After the following operation, nothing will be returned and the stack will contain 4,9,5."
   ]
  },
  {
   "cell_type": "code",
   "execution_count": null,
   "metadata": {},
   "outputs": [],
   "source": [
    "s.push(4)\n",
    "s.stack_traversal()"
   ]
  },
  {
   "cell_type": "markdown",
   "metadata": {},
   "source": [
    "After the following operation, 4 will be returned and the stack will contain 9,5."
   ]
  },
  {
   "cell_type": "code",
   "execution_count": null,
   "metadata": {},
   "outputs": [],
   "source": [
    "s.pop()\n",
    "s.stack_traversal()"
   ]
  },
  {
   "cell_type": "markdown",
   "metadata": {},
   "source": [
    "After the following operation, 9 will be returned and the stack will contain 5."
   ]
  },
  {
   "cell_type": "code",
   "execution_count": null,
   "metadata": {},
   "outputs": [],
   "source": [
    "s.pop()\n",
    "s.stack_traversal()"
   ]
  },
  {
   "cell_type": "markdown",
   "metadata": {},
   "source": [
    "After performing the above operations, we finish we a stack containing only the element 5."
   ]
  },
  {
   "cell_type": "markdown",
   "metadata": {},
   "source": [
    "**3) Suppose an initally empty stack S has executed a total of 35 push operations, 15 top operations and 10 pop operations, 3 of which riased Empty errors that were caught and ignored. What is the current size of S?**"
   ]
  },
  {
   "cell_type": "markdown",
   "metadata": {},
   "source": [
    "An initally empty stack which executes 35 push operations will then contain 35 elements. Top operations return the element at the top of the stack but don't remove it from the stack so these operations do not change the number of elements the stack. If 10 pop operations are performed but 3 are ignored due to empty errors then a total of 7 pop operations are performed. The pop method returns and removes the top element from the stack. As a result, the current size of the stack will be 28."
   ]
  },
  {
   "cell_type": "code",
   "execution_count": null,
   "metadata": {},
   "outputs": [],
   "source": []
  }
 ],
 "metadata": {
  "kernelspec": {
   "display_name": "Python 3",
   "language": "python",
   "name": "python3"
  },
  "language_info": {
   "codemirror_mode": {
    "name": "ipython",
    "version": 3
   },
   "file_extension": ".py",
   "mimetype": "text/x-python",
   "name": "python",
   "nbconvert_exporter": "python",
   "pygments_lexer": "ipython3",
   "version": "3.7.4"
  }
 },
 "nbformat": 4,
 "nbformat_minor": 2
}
