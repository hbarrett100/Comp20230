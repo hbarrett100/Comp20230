{
 "cells": [
  {
   "cell_type": "markdown",
   "metadata": {},
   "source": [
    "## Assignment 2"
   ]
  },
  {
   "cell_type": "markdown",
   "metadata": {},
   "source": [
    "### Introduction\n",
    "\n",
    "The objective of this assignment is to further explore and understand the structure, nature and use of linked lists, stacks and queues. Part 1 of this assignment begins with the implementation of a singly linked list. Some additional methods are added in order to further explore and understand this data structure. In the second section of part 1 I answer some questions related to stacks and queues. Finally, in part 2, I implement a stack ADT. I provide a discussion of my code and output throughout. "
   ]
  },
  {
   "cell_type": "markdown",
   "metadata": {},
   "source": [
    "### Part 1:\n",
    "\n",
    "### 1) Singly Linked List\n",
    "In the cells below I have implemented a singly linked list. Briefly as explained in lectire 8, a singly linked list is a collection of nodes. Each node contains a reference to an element and a reference to the next node of the list. The first node of a singly linked list is known as the head and the last node is known as the tail. We can move from the head to the tail of the list by following the reference to each nodes next node. In order to implement the singly linked list I create two classes - ```Node``` and ```myLinkedList```. \n",
    "\n",
    "Firstly, we make the ```__Node__``` class in the cell below. I have made all instance variables private as class data should not be directly accesible. In order to access the variables I have added getter and setter methods. We can see that the construcor of the ```__Node__``` class calls the ```set_data()``` and ```set_next_node()``` methods in order to create a reference to the data in the node and a reference to the next node when a ```Node``` instance is being created. The ```__repr()__``` method enables the nodes in the list to be printed in string format, as we will see further on. "
   ]
  },
  {
   "cell_type": "code",
   "execution_count": 1,
   "metadata": {},
   "outputs": [],
   "source": [
    "class Node: \n",
    "    '''Create a singly linked node'''\n",
    "    \n",
    "    def __init__ (self, data, next_node):\n",
    "        self.set_data(data) #call the setter method\n",
    "        self.set_next_node(next_node) #call the setter method \n",
    "        \n",
    "    def get_data(self):\n",
    "        '''return a reference to the data in the node'''\n",
    "        return self.__data #return data\n",
    "    \n",
    "    def set_data(self, data):\n",
    "        '''set the data in the node'''\n",
    "        self.__data = data #set data variable equal to data given as argument\n",
    "        \n",
    "    def get_next_node(self):\n",
    "        '''return a reference to the next node'''\n",
    "        return self.__next_node #return reference to the next node\n",
    "    \n",
    "    def set_next_node(self, next_node):\n",
    "        '''set the data in the next node'''\n",
    "        self.__next_node = next_node #set the next node variable equal to argument given\n",
    "        \n",
    "    def __repr__ (self):\n",
    "        '''to allow the nodes in the list to be printed'''\n",
    "        return str(self.__data) #to allow the nodes in the list to be printed\n",
    "        "
   ]
  },
  {
   "cell_type": "markdown",
   "metadata": {},
   "source": [
    "Next, in the cell below the second class ```myLinkedList``` is created. Some guidance for implementing this class was provided in chapter 7 of the course text book 'Data Structures & Algorithms' by Goodrich et al and some code was adapted from https://www.tutorialspoint.com/python_data_structure/python_linked_lists.htm. \n",
    "\n",
    "The constructor within this class initialises the head and tail to ```None``` and the size of the list to zero. Thus, an empty linked list is created initially. Again, instances variables are made private. As done in lab 5, I have chosen to raise exceptions rather than print error messages throughout. \n",
    "\n",
    "The assignment required the methods ```add_first()```, ```add_last()```, ```remove_first()``` and ```list_traversal()```. I have added some additional methods that I felt were important in this class. I will now briefly describe all methods: \n",
    "\n",
    " - As all instance variables are private, the ```get_first()``` method allows us to access the first element in the list. An exception is raised if this method is called on an empty list.\n",
    " \n",
    " - Similary, the ```get_last()``` method allows us to access the last element in the list. An exception is raised if this method is called on an empty list.\n",
    " \n",
    " - The method ```add_first``` adds a new node to the start of the linked list. An instance of the ```Node``` class is created and the variable ```head``` is set equal to this new node. The size of the list in increased by 1. The conditional statement within this method accounts for when this method is initially called on an empty list. As this new node is the first node in the list, the variable ```tail``` is also assigned to this node at this point.\n",
    " \n",
    " - The method ```add_last``` adds an element to the tail of the linked list. A new instance of the ```Node``` class is created, thus creating a new node in the list. The node next to the variable ```tail``` is assigned to the new node. The variable ```tail``` is then assigned to this new node. The size of the list is increased by 1. Again, the conditional statement here accounts for when this method is initally called on an empty list. In the case, this new node is also the head of the list. \n",
    "\n",
    " - The method ```remove_first``` removes but does not return the head of the linked list. The variable ```head``` is moved to the next element in the list. The next element in the list is accessed by calling the ```get_next_node()``` method created above in the ```Node``` class. The size of the list decreases by 1. An exception is raised if this method is called on an empty list.\n",
    " \n",
    " - ```is_empty()``` returns ```True``` if the linked list is empty and ```False``` otherwise. \n",
    " \n",
    " - ```search()``` returns ```True``` if a specific value is present in the linked list and ```False``` otherwise. It does this by invoking both the ```get_data()``` and ```get_next_node()``` methods created in the ```Node``` class. \n",
    " \n",
    " - ```get_data_at_rank()``` returns the data at a specific rank in the linked list. As linked lists are not indexable like regular python lists, we will use rank to denote the position in the linked list. Again, using the  ```get_data()``` and ```get_next_node()``` methods created in the ```Node``` class, this methods returns the data when the rank is reached and raises an exception if the rank given as an argument does not exist in the linked list. \n",
    " - ```__len__()``` returns the length of the linked list by accessing the ```size``` variable. This method allows the length of a linked list ```l``` to be accessed using ```len(l)``` for example, as with a regular python list. \n",
    " - ```__iter()__``` iterates over the nodes in the linked list by setting a variable ```current``` equal to the head of the list and then moving to the next node using the ```get_next_node()``` method. This ```__iter()__``` method allows the list to be printed by the ```__repr()__``` method as we will dicuss next. It means that users of the class can iterate through the list as is possible with python lists. The ```__iter()__``` method is adapted from https://stackoverflow.com/questions/41247422/repr-implementation-in-linked-list-in-python and https://www.pythoncentral.io/python-generators-and-yield-keyword/.\n",
    " - ```__repr()__``` enables a linked list ```l```, for example, to be printed using ```print(l)```. This method prints out all of the nodes in the list with the head of the list being the leftmost node printed. \n",
    "\n",
    "**Note:** The assignment required that a method ```list_traversal()``` be included. I have replaced this with ```__iter()__``` and ```__repr()__```. The ```__repr()__``` method prints out the nodes in the list in the same way as ```list_traversal()``` would have. Furthermore, I think it is more useful for a user to be able to iterate through the list and to use the ```print()``` method as with regular python lists. "
   ]
  },
  {
   "cell_type": "code",
   "execution_count": 2,
   "metadata": {},
   "outputs": [],
   "source": [
    "class myLinkedList: \n",
    "    ''' Create a linked list'''\n",
    "    \n",
    "    def __init__ (self):\n",
    "        '''initialise the linked list attributes'''\n",
    "        self.__head = None #initalise head to None\n",
    "        self.__size = 0 #initialise the size of the list to zero\n",
    "        self.__tail = None #initialise the tail to None\n",
    "        \n",
    "    def get_first(self):\n",
    "        '''access the head of the linked list'''\n",
    "        if self.__head == None:\n",
    "            raise Exception(\"Error. The list is empty\")\n",
    "        else:\n",
    "            return self.__head.get_data() #return the head of the linked list\n",
    "    \n",
    "    def get_last(self):\n",
    "        '''access the tail of the linked list'''\n",
    "        if self.__head == None:\n",
    "            raise Exception(\"Error. The list is empty\")\n",
    "        else:\n",
    "            return self.__tail.get_data() #return the tail of the linked list\n",
    "    \n",
    "    def add_first(self, data):\n",
    "        '''insert element at head of the linked list'''\n",
    "        new_node = Node(data, self.__head) #create an instance of the Node class\n",
    "        self.__head = new_node #set the head of the list equal to the new node\n",
    "        if self.__size == 0: #if the list was empty the new head is also the tail\n",
    "            self.__tail = self.__head \n",
    "        self.__size += 1 #increment the size of the linked list \n",
    "        \n",
    "    def add_last(self, data):\n",
    "        '''insert element at tail of the linked list'''\n",
    "        new_node = Node(data, None) #create an instance of the Node class\n",
    "        if self.__size == 0: #if the list was empty, the tail is equal to the new node\n",
    "            self.__tail = new_node\n",
    "            self.__head = self.__tail #head is equal to the tail \n",
    "        else:\n",
    "            #if list wasn't empty then the element next to the tail is the new node\n",
    "            self.__tail.set_next_node(new_node) \n",
    "            self.__tail = new_node #tail is equal to the new node\n",
    "        self.__size += 1 #increment the size of the linked list\n",
    "           \n",
    "    def remove_first(self):\n",
    "        '''remove the head of the linked list without returning it\n",
    "        \n",
    "        return an error if the list is empty'''\n",
    "        if self.__head == None:\n",
    "            raise Exception(\"Error. The list is empty\")\n",
    "        else: \n",
    "            self.__head = self.__head.get_next_node() #the head is equal to the next element\n",
    "            self.__size -= 1 #decrement the size of the linked list\n",
    "            \n",
    "    def is_empty(self):\n",
    "        '''return true if the linked list is empty'''\n",
    "        return self.__size == 0 #return true if the list is empty\n",
    "\n",
    "    def search(self, data):\n",
    "        '''return true if a specific element is in the linked list, false otherwise'''\n",
    "        current = self.__head #start at the head of the list\n",
    "        while current is not None: \n",
    "            if current.get_data() == data: #return true if element is found\n",
    "                return True\n",
    "            current = current.get_next_node() #move current pointer to next element\n",
    "        return False\n",
    "    \n",
    "    def get_data_at_rank(self, rank):\n",
    "        '''return the data at the specified position in the linked list'''\n",
    "        current = self.__head\n",
    "        count = 0  \n",
    "        while current is not None:\n",
    "            if count == rank: #return the element when we get to the specified rank in list\n",
    "                return current.get_data() \n",
    "            count += 1\n",
    "            current = current.get_next_node() #move to next node in linked list\n",
    "            \n",
    "        raise Exception(\"This position does not exist in the linked list\")\n",
    "        return\n",
    "    \n",
    "    def __len__ (self):\n",
    "        '''return the length of the linked list'''\n",
    "        return self.__size\n",
    "    \n",
    "    def __iter__(self):\n",
    "        '''iterates over the data in the linked list'''\n",
    "        current = self.__head \n",
    "        while current is not None: \n",
    "            yield current\n",
    "            current = current.get_next_node()\n",
    "            \n",
    "    def __repr__ (self):\n",
    "        '''returns a string representation of the linked list'''\n",
    "\n",
    "        s = \"\" #create an empty string\n",
    "        comma = \"\" #initialise comma to an empty string\n",
    "        for node in self:\n",
    "            s += comma + str(node) #for each node print a comma and the node\n",
    "            comma = \", \"\n",
    "        return s #return the string"
   ]
  },
  {
   "cell_type": "markdown",
   "metadata": {},
   "source": [
    "In order to fully understand the methods in the ```Node``` and ```myLinkedList``` classes above, we will now run some tests. I will document the expected results and the obtained results throughout. We begin by creating an instance of ```myLinkedList```."
   ]
  },
  {
   "cell_type": "code",
   "execution_count": 3,
   "metadata": {},
   "outputs": [],
   "source": [
    "#create linked list\n",
    "l = myLinkedList()"
   ]
  },
  {
   "cell_type": "markdown",
   "metadata": {},
   "source": [
    "We now add an element to the head of the list and print out the list. Printing out the list will work because we have included a ```__repr()__``` method. "
   ]
  },
  {
   "cell_type": "code",
   "execution_count": 4,
   "metadata": {},
   "outputs": [
    {
     "name": "stdout",
     "output_type": "stream",
     "text": [
      "Apple\n"
     ]
    }
   ],
   "source": [
    "#add element to head of list\n",
    "l.add_first(\"Apple\")\n",
    "#print contents of list\n",
    "print(l)"
   ]
  },
  {
   "cell_type": "markdown",
   "metadata": {},
   "source": [
    "We can see the list contains one element. In the cell below we will test the ```is_empty``` method. We expect the answer to be ```False``` as the list is not empty. "
   ]
  },
  {
   "cell_type": "code",
   "execution_count": 5,
   "metadata": {},
   "outputs": [
    {
     "data": {
      "text/plain": [
       "False"
      ]
     },
     "execution_count": 5,
     "metadata": {},
     "output_type": "execute_result"
    }
   ],
   "source": [
    "#check if list is empty.\n",
    "l.is_empty()"
   ]
  },
  {
   "cell_type": "markdown",
   "metadata": {},
   "source": [
    "We now add another element to the head of the list and print out the list. We will see that the new element will have replaced ```Apple``` as the head of the list. "
   ]
  },
  {
   "cell_type": "code",
   "execution_count": 6,
   "metadata": {},
   "outputs": [
    {
     "name": "stdout",
     "output_type": "stream",
     "text": [
      "Banana, Apple\n"
     ]
    }
   ],
   "source": [
    "#add new element to head of list\n",
    "l.add_first(\"Banana\")\n",
    "#print contents of list\n",
    "print(l)"
   ]
  },
  {
   "cell_type": "markdown",
   "metadata": {},
   "source": [
    "We will now iterate through the linked list using a ```for``` loop and print out each node in the list. This will be possible because we have added a ```__iter()__``` method. "
   ]
  },
  {
   "cell_type": "code",
   "execution_count": 7,
   "metadata": {},
   "outputs": [
    {
     "name": "stdout",
     "output_type": "stream",
     "text": [
      "Banana\n",
      "Apple\n"
     ]
    }
   ],
   "source": [
    "#loop through the linked list and print out all nodes. \n",
    "for x in l:\n",
    "    print(x)"
   ]
  },
  {
   "cell_type": "markdown",
   "metadata": {},
   "source": [
    "We now add an element to the end of the list. We expect this new element to be after ```Apple``` in the list. "
   ]
  },
  {
   "cell_type": "code",
   "execution_count": 8,
   "metadata": {},
   "outputs": [
    {
     "name": "stdout",
     "output_type": "stream",
     "text": [
      "Banana, Apple, jiji\n"
     ]
    }
   ],
   "source": [
    "#add element to end of list\n",
    "l.add_last(\"jiji\")\n",
    "#print contents of list\n",
    "print(l)"
   ]
  },
  {
   "cell_type": "markdown",
   "metadata": {},
   "source": [
    "We now check that the size of the list is 3. This will be possible using ```len(l)``` because we have added a special method ```__len()__```.\n"
   ]
  },
  {
   "cell_type": "code",
   "execution_count": 9,
   "metadata": {},
   "outputs": [
    {
     "data": {
      "text/plain": [
       "3"
      ]
     },
     "execution_count": 9,
     "metadata": {},
     "output_type": "execute_result"
    }
   ],
   "source": [
    "#print out size of list\n",
    "len(l)"
   ]
  },
  {
   "cell_type": "markdown",
   "metadata": {},
   "source": [
    "We now remove the head of the list. We expect \"Banana\" to be removed. "
   ]
  },
  {
   "cell_type": "code",
   "execution_count": 10,
   "metadata": {},
   "outputs": [
    {
     "name": "stdout",
     "output_type": "stream",
     "text": [
      "Apple, jiji\n"
     ]
    }
   ],
   "source": [
    "#remove head of list\n",
    "l.remove_first()\n",
    "#print contents of list\n",
    "print(l)"
   ]
  },
  {
   "cell_type": "markdown",
   "metadata": {},
   "source": [
    "We now check that the size of the list has decreased to 2."
   ]
  },
  {
   "cell_type": "code",
   "execution_count": 11,
   "metadata": {},
   "outputs": [
    {
     "data": {
      "text/plain": [
       "2"
      ]
     },
     "execution_count": 11,
     "metadata": {},
     "output_type": "execute_result"
    }
   ],
   "source": [
    "#print out size of list\n",
    "len(l)"
   ]
  },
  {
   "cell_type": "markdown",
   "metadata": {},
   "source": [
    "Using the ```search()``` method, we now check that the element ```Apple``` is in the list. We expect ```True``` to be returned. "
   ]
  },
  {
   "cell_type": "code",
   "execution_count": 12,
   "metadata": {},
   "outputs": [
    {
     "data": {
      "text/plain": [
       "True"
      ]
     },
     "execution_count": 12,
     "metadata": {},
     "output_type": "execute_result"
    }
   ],
   "source": [
    "#search for element\n",
    "l.search('Apple')"
   ]
  },
  {
   "cell_type": "markdown",
   "metadata": {},
   "source": [
    "Using the ```get_data_at_rank()``` method, we now get the data at rank 1 from the list. This will be the second element in the linked list. We expect ```Jiji``` to be printed. "
   ]
  },
  {
   "cell_type": "code",
   "execution_count": 13,
   "metadata": {},
   "outputs": [
    {
     "data": {
      "text/plain": [
       "'jiji'"
      ]
     },
     "execution_count": 13,
     "metadata": {},
     "output_type": "execute_result"
    }
   ],
   "source": [
    "#get the element at rank 1 in the list\n",
    "l.get_data_at_rank(1)"
   ]
  },
  {
   "cell_type": "markdown",
   "metadata": {},
   "source": [
    "We can see that all methods within the class are working correctly. In order to further confirm that all methods and exceptions are working correctly, we will now perform some unit testing as described in lab 3. Unit testing of exceptions was adapted from https://ongspxm.github.io/blog/2016/11/assertraises-testing-for-errors-in-unittest/."
   ]
  },
  {
   "cell_type": "code",
   "execution_count": 14,
   "metadata": {},
   "outputs": [
    {
     "name": "stderr",
     "output_type": "stream",
     "text": [
      "test_add_first (__main__.TestLinkedList) ... ok\n",
      "test_add_last (__main__.TestLinkedList) ... ok\n",
      "test_get_data_at_rank (__main__.TestLinkedList) ... ok\n",
      "test_get_first (__main__.TestLinkedList) ... ok\n",
      "test_get_last (__main__.TestLinkedList) ... ok\n",
      "test_is_empty (__main__.TestLinkedList) ... ok\n",
      "test_len (__main__.TestLinkedList) ... ok\n",
      "test_remove_first (__main__.TestLinkedList) ... ok\n",
      "test_search (__main__.TestLinkedList) ... ok\n",
      "\n",
      "----------------------------------------------------------------------\n",
      "Ran 9 tests in 0.020s\n",
      "\n",
      "OK\n"
     ]
    },
    {
     "data": {
      "text/plain": [
       "<unittest.main.TestProgram at 0x1124ca750>"
      ]
     },
     "execution_count": 14,
     "metadata": {},
     "output_type": "execute_result"
    }
   ],
   "source": [
    "import unittest\n",
    "\n",
    "class TestLinkedList(unittest.TestCase):\n",
    "\n",
    "    def test_add_first(self):\n",
    "        l = myLinkedList()\n",
    "        l.add_first(1)\n",
    "        self.assertTrue(len(l)==1)\n",
    "        self.assertEqual(l.get_first(), 1)\n",
    "        l.add_first(2)\n",
    "        self.assertEqual(l.get_first(), 2)\n",
    "        l.add_first(4)\n",
    "        self.assertEqual(l.get_first(), 4)\n",
    "        \n",
    "    def test_get_first(self):\n",
    "        l = myLinkedList()\n",
    "        self.assertRaises(Exception, l.get_first)\n",
    "        l.add_first(1)\n",
    "        self.assertEqual(l.get_first(), 1)\n",
    "        l.add_first(3)\n",
    "        self.assertEqual(l.get_first(), 3)\n",
    "        l.add_last(4)\n",
    "        self.assertEqual(l.get_first(), 3)\n",
    "        \n",
    "    def test_add_last(self):\n",
    "        l = myLinkedList()\n",
    "        l.add_last(2)\n",
    "        self.assertTrue(len(l)==1)\n",
    "        self.assertEqual(l.get_last(), 2)\n",
    "        l.add_last(3)\n",
    "        self.assertEqual(l.get_last(), 3)\n",
    "\n",
    "    def test_get_last(self):\n",
    "        l = myLinkedList()\n",
    "        self.assertRaises(Exception, l.get_last)\n",
    "        l.add_first(4)\n",
    "        l.add_last(7)\n",
    "        self.assertEqual(l.get_last(), 7)\n",
    "        l.add_last(8)\n",
    "        self.assertEqual(l.get_last(), 8)\n",
    "        \n",
    "    def test_remove_first(self):\n",
    "        l = myLinkedList()\n",
    "        self.assertRaises(Exception, l.remove_first)\n",
    "        l.add_first(4)\n",
    "        l.add_last(7)\n",
    "        l.remove_first()\n",
    "        self.assertEqual(l.get_first(), 7)\n",
    "        l.add_first(1)\n",
    "        l.remove_first()\n",
    "        self.assertEqual(l.get_first(), 7)\n",
    "           \n",
    "    def test_is_empty(self):\n",
    "        l = myLinkedList()\n",
    "        self.assertTrue(l.is_empty())\n",
    "        l.add_first(2)\n",
    "        self.assertFalse(l.is_empty())\n",
    "        \n",
    "    def test_search(self):\n",
    "        l = myLinkedList()\n",
    "        l.add_first(2)\n",
    "        self.assertTrue(l.search(2))\n",
    "        self.assertFalse(l.search(1))\n",
    "        l.add_first(1)\n",
    "        self.assertTrue(l.search(1))\n",
    "        \n",
    "    def test_get_data_at_rank(self):\n",
    "        l = myLinkedList()\n",
    "        l.add_first(2)\n",
    "        self.assertEqual(l.get_data_at_rank(0), 2)\n",
    "        l.add_first(1)\n",
    "        self.assertEqual(l.get_data_at_rank(0), 1)\n",
    "        self.assertRaises(Exception, l.get_data_at_rank, 2)\n",
    "        \n",
    "    def test_len(self):\n",
    "        l = myLinkedList()\n",
    "        l.add_first(2)\n",
    "        self.assertEqual(len(l), 1)\n",
    "        l.add_last(1)\n",
    "        self.assertEqual(len(l), 2)\n",
    "        l.remove_first()\n",
    "        self.assertEqual(len(l), 1)\n",
    "                          \n",
    "unittest.main(argv=[''], verbosity=2, exit=False)"
   ]
  },
  {
   "cell_type": "markdown",
   "metadata": {},
   "source": [
    "### Part 1 \n",
    "\n",
    "### 2) Stack ADT & Queue ADT\n",
    "\n",
    "**Define in your own words the terms stack ADT and queue ADT**\n",
    "\n",
    "- A stack ADT is a collection of elements that are added and removed from one end only, known as the \"top\". In other words, the stack follows the last-in, first-out principle.\n",
    "\n",
    "- A queue ADT is a collection of elements which follow the first-in, first-out principle. Elements are added to one end of the queue and removed from the other end. Only the element that has been in the queue the longest is removed. \n",
    "\n",
    "**List the key operations and support operations commonly associated with the ADTs**\n",
    "\n",
    "**Stack ADT:** \n",
    "- The key operations are push( ) and pop( ).\n",
    "- The support operations are top( ), is_empty( ) and len( ).\n",
    "\n",
    "**Queue ADT:**\n",
    "- The key operations are enqueue( ) and dequeue( ).\n",
    "- The support operations are first( ), is_empty( ) and len( ).\n",
    "\n",
    "**For each ADT give two real world examples and explain them briefly:**\n",
    "\n",
    "**Stack ADT:**\n",
    "- **Example 1:** As described in chapter 6 of the course text book 'Data Structures & Algorithms' by Goodrich et al, the stack ADT is used in the validation of markup languages such as HTML. A HTML document contains 'HTML tags' throughout in order to separate sections of text such a headers and paragraphs. The beginning tag is surrounded by \"<\" and \">\" and the ending tag begins with \"</\" and ends with \">\". A HTML document should have matching tags and this is where the stack ADT is used. The document is searched and all opening tags \"<\" are pushed on to the stack. They are then matched with closing tags as they are popped from the stack. \n",
    "\n",
    "- **Example 2:** As described at https://pdfs.semanticscholar.org/ce46/fd8d181c71eb192c5a8f75f716281669226c.pdf, the stack ADT is used to navigate back/forward to different web pages on a web browser. Essentially, a stack of visited pages is created. When a webpage is clicked or typed in, it is added to the top of the stack. When the back button is pressed, the stack pointer moves down the stack pile and displays the webpage at that stack location. Similarly, when the forward button is pressed, the stack pointer moves up the stack pile. If a user is on a webpage inside the stack and they type or click on a new link, all webpages above the current position are popped off the stack and the new one is pushed to the top of the stack. \n",
    "\n",
    "\n",
    "**Queue ADT:**\n",
    "- **Example 1:** As described at http://people.cs.ksu.edu/~schmidt/300s05/Lectures/Week5.html, one use for the queue ADT is a networked printer. The operating system forms a queue of processes which are waiting to use the printer. Once a process is using the printer, it can continue until finished. The unique id of all other waiting processes are kept in the queue. Once the current process is finished using the printer, the process id that has been in the queue the longest can now use the printer.\n",
    "- **Example 2:** As mentioned in chapter 9 of the course text book 'Data Structures & Algorithms' by Goodrich et al, a customer call centre uses a queue ADT to manage incoming calls. Each time a customer service employee becomes available, they are connected to the call that was removed from the front of the queue and all customers who call in are added to the end of the waiting queue. Only the customer that has been in the queue the longest will be connected to the next available customer service employee. "
   ]
  },
  {
   "cell_type": "markdown",
   "metadata": {},
   "source": [
    "### Part 2: Stack ADT\n",
    "\n",
    "**1) Adopt the ADT concepts from part 1 above to provide a complete implementation of a stack ADT.**\n",
    "\n",
    "In the cell below I implement a stack ADT. To implement the stack ADT I used a singly linked list. It would also be possible to implement the stack ADT using a python list however, as described at https://en.wikipedia.org/wiki/Linked_list, a linked list is often a better choice. This is because elements can be added indefinitely to a linked list, while an array will eventually either fill up or need to be resized. Furthermore, as we have created a linked list class above, it makes sense to use that here. \n",
    "\n",
    "As described in section 2 of part 1, elements are added to and removed from the same end of the stack. We saw in the implementation of the linked list in part 1 that elements can easily be added and removed from the head of the list. Furthermore, these operations perform in constant time. On the otherhand, removing an element from the tail of a linked list is not as straightforward. In order to keep a reference to the last node of the list, it would be necessary to access the node before the tail node. However, this would involve starting at the head of the list and traversing the entire list until reaching the node before the tail. As a result, it makes sense to orient the top of the stack at the head of the linked list. \n",
    "\n",
    "For the implementation of the stack ADT we will use the ```myLinkedList``` class created in part 1. \n",
    "\n",
    " - We being by creating an instance of the ```myLinkedList``` class in the constructor of the ```MyStack``` class. \n",
    " - In the ```__len()__``` method we can use ```len``` as this is a method within the ```myLinkedList``` class.\n",
    " - Similarly in the ```is_empty()``` method, we can access the ```len``` method of the ```myLinkedList``` class. ```True``` is returned if the length of the stack is equal to zero. \n",
    " - ```push()``` uses the ```add_first``` method of ```myLinkedList``` to add an element to the top of the stack.\n",
    " - ```pop()``` removes and returns an element from the top of the stack. The ```get_first()``` method is used to access the first element in the list and assign it to a variable. This variable is returned. The ```remove_first()``` method of ```myLinkedList``` is used to remove the element from the top of the stack. An exception is raised if this method is called on an empty stack. \n",
    " - ```top()``` returns but does not remove the first element from the stack. This method calls the ```get_first()``` method from ```myLinkedList``` to return the element at the top of the stack.\n",
    " - ```search()``` takes data as an argument and returns ```True``` if the data is found in the stack and ```False``` otherwise. It calls the ```search()``` method within the ```myLinkedList``` class. \n",
    " - ```__iter()__``` calls the ```iter()``` method of ```myLinkedList``` and allows the stack to be iterated. \n",
    " - Similarly, ```__repr()__``` accesses the ```repr()``` method in the ```myLinkedList``` class and allows the stack to be printed using the ```print()``` method. "
   ]
  },
  {
   "cell_type": "code",
   "execution_count": 15,
   "metadata": {},
   "outputs": [],
   "source": [
    "class MyStack:\n",
    "    '''Implementation of a stack using a linked list'''\n",
    "\n",
    "    def __init__ (self):\n",
    "        '''create empty stack'''\n",
    "        self.__linked_list = myLinkedList() #create instance of linked list\n",
    "        \n",
    "    def __len__(self):\n",
    "        '''return the number of elements in the stack'''\n",
    "        return len(self.__linked_list) #access the len method\n",
    "    \n",
    "    def is_empty(self):\n",
    "        '''return true if the stack is empty'''\n",
    "        return len(self.__linked_list) == 0 #true if length is zero\n",
    "    \n",
    "    def push(self, data):\n",
    "        '''Add element to top of stack'''\n",
    "        self.__linked_list.add_first(data) #call add_first() method\n",
    "            \n",
    "    def pop(self):\n",
    "        '''remove and return element from top of stack.\n",
    "        \n",
    "        Return an error if the list is empty.'''\n",
    "        if self.is_empty():\n",
    "            raise Exception(\"Error. Stack is empty.\")\n",
    "        top_of_stack = self.__linked_list.get_first() #get top of stack\n",
    "        self.__linked_list.remove_first() #remove top of stack\n",
    "        return top_of_stack #return top of stack\n",
    "        \n",
    "    def top(self):\n",
    "        '''return but do not remove the last element added to the stack\n",
    "        \n",
    "        Return an error if the stack is empty'''\n",
    "        if self.is_empty():\n",
    "            raise Exception(\"Error. Stack is empty.\")\n",
    "        else: \n",
    "            return self.__linked_list.get_first() #return top of stack\n",
    "        \n",
    "    def search(self, data):\n",
    "        '''return True if element is in stack, false otherwise'''\n",
    "        return self.__linked_list.search(data) #call search() method\n",
    "        \n",
    "    def __iter__ (self):\n",
    "        '''Enables stack to be iterated over'''\n",
    "        return iter(self.__linked_list) #call iter() method\n",
    "    \n",
    "    def __repr__(self):\n",
    "        '''enables stack to be printed'''\n",
    "        return repr(self.__linked_list) #call repr() method.  "
   ]
  },
  {
   "cell_type": "markdown",
   "metadata": {},
   "source": [
    "Q2 below implements some tests on some of the methods above. However, as I have added extra methods I will now run some tests on these in order to understand them further and to ensure they are working correctly. We begin by creating an instance of the ```MyStack``` class."
   ]
  },
  {
   "cell_type": "code",
   "execution_count": 16,
   "metadata": {},
   "outputs": [],
   "source": [
    "#create an empty stack\n",
    "s_test = MyStack()"
   ]
  },
  {
   "cell_type": "markdown",
   "metadata": {},
   "source": [
    "Next we add 1 to the stack. Nothing will be returned. "
   ]
  },
  {
   "cell_type": "code",
   "execution_count": 17,
   "metadata": {},
   "outputs": [],
   "source": [
    "#add element to stack\n",
    "s_test.push(1)"
   ]
  },
  {
   "cell_type": "markdown",
   "metadata": {},
   "source": [
    "Next we add 4 to the stack. Nothing will be returned. "
   ]
  },
  {
   "cell_type": "code",
   "execution_count": 18,
   "metadata": {},
   "outputs": [],
   "source": [
    "#add element to stack\n",
    "s_test.push(4)"
   ]
  },
  {
   "cell_type": "markdown",
   "metadata": {},
   "source": [
    "Next, we check that the size of the stack is 2. We do this using the ```len()``` method. "
   ]
  },
  {
   "cell_type": "code",
   "execution_count": 19,
   "metadata": {},
   "outputs": [
    {
     "data": {
      "text/plain": [
       "2"
      ]
     },
     "execution_count": 19,
     "metadata": {},
     "output_type": "execute_result"
    }
   ],
   "source": [
    "#get the size of the stack\n",
    "len(s_test)"
   ]
  },
  {
   "cell_type": "markdown",
   "metadata": {},
   "source": [
    "Next we iterate over the stack using a ```for``` loop. This is possible because we added an ```__iter()__``` method. "
   ]
  },
  {
   "cell_type": "code",
   "execution_count": 20,
   "metadata": {},
   "outputs": [
    {
     "name": "stdout",
     "output_type": "stream",
     "text": [
      "4\n",
      "1\n"
     ]
    }
   ],
   "source": [
    "#iterate through stack and print all elements\n",
    "for s in s_test:\n",
    "    print(s)"
   ]
  },
  {
   "cell_type": "markdown",
   "metadata": {},
   "source": [
    "Next we will test the ```__repr()__``` method by printing out the elements of the stack using ```print()```. We expect 4,1 to be printed. "
   ]
  },
  {
   "cell_type": "code",
   "execution_count": 21,
   "metadata": {},
   "outputs": [
    {
     "name": "stdout",
     "output_type": "stream",
     "text": [
      "4, 1\n"
     ]
    }
   ],
   "source": [
    "print(s_test)"
   ]
  },
  {
   "cell_type": "markdown",
   "metadata": {},
   "source": [
    "We now search for '1' in the stack. We expect 'True' to be returned. "
   ]
  },
  {
   "cell_type": "code",
   "execution_count": 22,
   "metadata": {},
   "outputs": [
    {
     "data": {
      "text/plain": [
       "True"
      ]
     },
     "execution_count": 22,
     "metadata": {},
     "output_type": "execute_result"
    }
   ],
   "source": [
    "#search the stack for 1\n",
    "s_test.search(1)"
   ]
  },
  {
   "cell_type": "markdown",
   "metadata": {},
   "source": [
    "We now return the first element from the top of the stack. We expect ```4``` to be returned. This should not remove the element from the stack."
   ]
  },
  {
   "cell_type": "code",
   "execution_count": 23,
   "metadata": {},
   "outputs": [
    {
     "data": {
      "text/plain": [
       "4"
      ]
     },
     "execution_count": 23,
     "metadata": {},
     "output_type": "execute_result"
    }
   ],
   "source": [
    "#return the element at the top of the stack\n",
    "s_test.top()"
   ]
  },
  {
   "cell_type": "markdown",
   "metadata": {},
   "source": [
    "We now check to ensure that the stack still contains 4,1."
   ]
  },
  {
   "cell_type": "code",
   "execution_count": 24,
   "metadata": {},
   "outputs": [
    {
     "name": "stdout",
     "output_type": "stream",
     "text": [
      "4, 1\n"
     ]
    }
   ],
   "source": [
    "#print out contents of the stack.\n",
    "print(s_test)"
   ]
  },
  {
   "cell_type": "markdown",
   "metadata": {},
   "source": [
    "Next, we test that the pop() method is working by removing the element from the top of the stack. We expect ```4``` to be returned. "
   ]
  },
  {
   "cell_type": "code",
   "execution_count": 25,
   "metadata": {},
   "outputs": [
    {
     "data": {
      "text/plain": [
       "4"
      ]
     },
     "execution_count": 25,
     "metadata": {},
     "output_type": "execute_result"
    }
   ],
   "source": [
    "#remove the element from the top of the stack\n",
    "s_test.pop()"
   ]
  },
  {
   "cell_type": "markdown",
   "metadata": {},
   "source": [
    "We now check that the stack only contains ```1```."
   ]
  },
  {
   "cell_type": "code",
   "execution_count": 26,
   "metadata": {},
   "outputs": [
    {
     "name": "stdout",
     "output_type": "stream",
     "text": [
      "1\n"
     ]
    }
   ],
   "source": [
    "#print out contents of the stack.\n",
    "print(s_test)"
   ]
  },
  {
   "cell_type": "markdown",
   "metadata": {},
   "source": [
    "We now check that the stack is not empty. We expect 'False' to be returned. "
   ]
  },
  {
   "cell_type": "code",
   "execution_count": 27,
   "metadata": {},
   "outputs": [
    {
     "data": {
      "text/plain": [
       "False"
      ]
     },
     "execution_count": 27,
     "metadata": {},
     "output_type": "execute_result"
    }
   ],
   "source": [
    "#check if the stack is empty.\n",
    "s_test.is_empty()"
   ]
  },
  {
   "cell_type": "markdown",
   "metadata": {},
   "source": [
    "We can see that all methods are working correctly. We will now perform some further unit testing. "
   ]
  },
  {
   "cell_type": "code",
   "execution_count": 28,
   "metadata": {},
   "outputs": [
    {
     "name": "stderr",
     "output_type": "stream",
     "text": [
      "test_add_first (__main__.TestLinkedList) ... ok\n",
      "test_add_last (__main__.TestLinkedList) ... ok\n",
      "test_get_data_at_rank (__main__.TestLinkedList) ... ok\n",
      "test_get_first (__main__.TestLinkedList) ... ok\n",
      "test_get_last (__main__.TestLinkedList) ... ok\n",
      "test_is_empty (__main__.TestLinkedList) ... ok\n",
      "test_len (__main__.TestLinkedList) ... ok\n",
      "test_remove_first (__main__.TestLinkedList) ... ok\n",
      "test_search (__main__.TestLinkedList) ... ok\n",
      "test_is_empty (__main__.TestStack) ... ok\n",
      "test_pop (__main__.TestStack) ... ok\n",
      "test_push (__main__.TestStack) ... ok\n",
      "test_search (__main__.TestStack) ... ok\n",
      "test_top (__main__.TestStack) ... ok\n",
      "\n",
      "----------------------------------------------------------------------\n",
      "Ran 14 tests in 0.033s\n",
      "\n",
      "OK\n"
     ]
    },
    {
     "data": {
      "text/plain": [
       "<unittest.main.TestProgram at 0x1124eaa10>"
      ]
     },
     "execution_count": 28,
     "metadata": {},
     "output_type": "execute_result"
    }
   ],
   "source": [
    "import unittest\n",
    "\n",
    "class TestStack(unittest.TestCase):\n",
    "\n",
    "    def test_push(self):\n",
    "        s = MyStack()\n",
    "        s.push(1)\n",
    "        self.assertTrue(len(s)==1)\n",
    "        self.assertEqual(s.top(), 1)\n",
    "        s.push(2)\n",
    "        self.assertEqual(s.top(), 2)\n",
    "        s.push(4)\n",
    "        self.assertEqual(s.top(), 4)\n",
    "        \n",
    "    def test_top(self):\n",
    "        s = MyStack()\n",
    "        self.assertRaises(Exception, s.top)\n",
    "        s.push(1)\n",
    "        self.assertEqual(s.top(), 1)\n",
    "        s.push(3)\n",
    "        self.assertEqual(s.top(), 3)\n",
    "        s.push(4)\n",
    "        self.assertEqual(s.top(), 4)\n",
    "        \n",
    "    def test_pop(self):\n",
    "        s = MyStack()\n",
    "        self.assertRaises(Exception, s.pop)\n",
    "        s.push(4)\n",
    "        s.push(7)\n",
    "        s.pop()\n",
    "        self.assertEqual(s.top(), 4)\n",
    "        s.push(1)\n",
    "        s.pop()\n",
    "        self.assertEqual(s.top(), 4)\n",
    "           \n",
    "    def test_is_empty(self):\n",
    "        s = MyStack()\n",
    "        self.assertTrue(s.is_empty())\n",
    "        s.push(2)\n",
    "        self.assertFalse(s.is_empty())\n",
    "        \n",
    "    def test_search(self):\n",
    "        s = MyStack()\n",
    "        s.push(2)\n",
    "        self.assertTrue(s.search(2))\n",
    "        self.assertFalse(s.search(1))\n",
    "        s.push(1)\n",
    "        self.assertTrue(s.search(1))\n",
    "      \n",
    "unittest.main(argv=[''], verbosity=2, exit=False)"
   ]
  },
  {
   "cell_type": "markdown",
   "metadata": {},
   "source": [
    "**2) What values are returned when the following series of stack operations is executed upon an initially empty stack?**\n",
    "\n",
    "In the cell below I will create an empty stack s."
   ]
  },
  {
   "cell_type": "code",
   "execution_count": 29,
   "metadata": {},
   "outputs": [],
   "source": [
    "#create empty stack\n",
    "s = MyStack()"
   ]
  },
  {
   "cell_type": "markdown",
   "metadata": {},
   "source": [
    "I will now perform a series of operations on this stack and will document the expected output throughout. I will print the content of the stack after each operation using the ```__repr()__``` method defined above. \n",
    "\n",
    "After the following operation, nothing will be returned and the stack will contain 5."
   ]
  },
  {
   "cell_type": "code",
   "execution_count": 30,
   "metadata": {},
   "outputs": [],
   "source": [
    "s.push(5)"
   ]
  },
  {
   "cell_type": "code",
   "execution_count": 31,
   "metadata": {},
   "outputs": [
    {
     "name": "stdout",
     "output_type": "stream",
     "text": [
      "5\n"
     ]
    }
   ],
   "source": [
    "print(s)"
   ]
  },
  {
   "cell_type": "markdown",
   "metadata": {},
   "source": [
    "After the following operation, nothing will be returned and the stack will contain 3,5"
   ]
  },
  {
   "cell_type": "code",
   "execution_count": 32,
   "metadata": {},
   "outputs": [],
   "source": [
    "s.push(3)"
   ]
  },
  {
   "cell_type": "code",
   "execution_count": 33,
   "metadata": {},
   "outputs": [
    {
     "name": "stdout",
     "output_type": "stream",
     "text": [
      "3, 5\n"
     ]
    }
   ],
   "source": [
    "print(s)"
   ]
  },
  {
   "cell_type": "markdown",
   "metadata": {},
   "source": [
    "After the following operation, 3 will be returned and the stack will contain 5"
   ]
  },
  {
   "cell_type": "code",
   "execution_count": 34,
   "metadata": {},
   "outputs": [
    {
     "data": {
      "text/plain": [
       "3"
      ]
     },
     "execution_count": 34,
     "metadata": {},
     "output_type": "execute_result"
    }
   ],
   "source": [
    "s.pop()"
   ]
  },
  {
   "cell_type": "code",
   "execution_count": 35,
   "metadata": {},
   "outputs": [
    {
     "name": "stdout",
     "output_type": "stream",
     "text": [
      "5\n"
     ]
    }
   ],
   "source": [
    "print(s)"
   ]
  },
  {
   "cell_type": "markdown",
   "metadata": {},
   "source": [
    "After the following operation, nothing will be returned and the stack will contain 2,5."
   ]
  },
  {
   "cell_type": "code",
   "execution_count": 36,
   "metadata": {},
   "outputs": [],
   "source": [
    "s.push(2)"
   ]
  },
  {
   "cell_type": "code",
   "execution_count": 37,
   "metadata": {},
   "outputs": [
    {
     "name": "stdout",
     "output_type": "stream",
     "text": [
      "2, 5\n"
     ]
    }
   ],
   "source": [
    "print(s)"
   ]
  },
  {
   "cell_type": "markdown",
   "metadata": {},
   "source": [
    "After the following operation, nothing will be returned and the stack will contain 8,2,5"
   ]
  },
  {
   "cell_type": "code",
   "execution_count": 38,
   "metadata": {},
   "outputs": [],
   "source": [
    "s.push(8)"
   ]
  },
  {
   "cell_type": "code",
   "execution_count": 39,
   "metadata": {},
   "outputs": [
    {
     "name": "stdout",
     "output_type": "stream",
     "text": [
      "8, 2, 5\n"
     ]
    }
   ],
   "source": [
    "print(s)"
   ]
  },
  {
   "cell_type": "markdown",
   "metadata": {},
   "source": [
    "After the following operation, 8 will be returned and the stack will contain 2,5."
   ]
  },
  {
   "cell_type": "code",
   "execution_count": 40,
   "metadata": {},
   "outputs": [
    {
     "data": {
      "text/plain": [
       "8"
      ]
     },
     "execution_count": 40,
     "metadata": {},
     "output_type": "execute_result"
    }
   ],
   "source": [
    "s.pop()"
   ]
  },
  {
   "cell_type": "code",
   "execution_count": 41,
   "metadata": {},
   "outputs": [
    {
     "name": "stdout",
     "output_type": "stream",
     "text": [
      "2, 5\n"
     ]
    }
   ],
   "source": [
    "print(s)"
   ]
  },
  {
   "cell_type": "markdown",
   "metadata": {},
   "source": [
    "After the following operation, 2 will be returned and the stack will contain 5."
   ]
  },
  {
   "cell_type": "code",
   "execution_count": 42,
   "metadata": {},
   "outputs": [
    {
     "data": {
      "text/plain": [
       "2"
      ]
     },
     "execution_count": 42,
     "metadata": {},
     "output_type": "execute_result"
    }
   ],
   "source": [
    "s.pop()"
   ]
  },
  {
   "cell_type": "code",
   "execution_count": 43,
   "metadata": {},
   "outputs": [
    {
     "name": "stdout",
     "output_type": "stream",
     "text": [
      "5\n"
     ]
    }
   ],
   "source": [
    "print(s)"
   ]
  },
  {
   "cell_type": "markdown",
   "metadata": {},
   "source": [
    "After the following operation, nothing will be returned and the stack will contain 9,5."
   ]
  },
  {
   "cell_type": "code",
   "execution_count": 44,
   "metadata": {},
   "outputs": [],
   "source": [
    "s.push(9)"
   ]
  },
  {
   "cell_type": "code",
   "execution_count": 45,
   "metadata": {},
   "outputs": [
    {
     "name": "stdout",
     "output_type": "stream",
     "text": [
      "9, 5\n"
     ]
    }
   ],
   "source": [
    "print(s)"
   ]
  },
  {
   "cell_type": "markdown",
   "metadata": {},
   "source": [
    "After the following operation, nothing will be returned and the stack will contain 1,9,5."
   ]
  },
  {
   "cell_type": "code",
   "execution_count": 46,
   "metadata": {},
   "outputs": [],
   "source": [
    "s.push(1)"
   ]
  },
  {
   "cell_type": "code",
   "execution_count": 47,
   "metadata": {},
   "outputs": [
    {
     "name": "stdout",
     "output_type": "stream",
     "text": [
      "1, 9, 5\n"
     ]
    }
   ],
   "source": [
    "print(s)"
   ]
  },
  {
   "cell_type": "markdown",
   "metadata": {},
   "source": [
    "After the following operation, 1 will be returned and the stack will contain 9,5."
   ]
  },
  {
   "cell_type": "code",
   "execution_count": 48,
   "metadata": {},
   "outputs": [
    {
     "data": {
      "text/plain": [
       "1"
      ]
     },
     "execution_count": 48,
     "metadata": {},
     "output_type": "execute_result"
    }
   ],
   "source": [
    "s.pop()"
   ]
  },
  {
   "cell_type": "code",
   "execution_count": 49,
   "metadata": {},
   "outputs": [
    {
     "name": "stdout",
     "output_type": "stream",
     "text": [
      "9, 5\n"
     ]
    }
   ],
   "source": [
    "print(s)"
   ]
  },
  {
   "cell_type": "markdown",
   "metadata": {},
   "source": [
    "After the following operation, nothing will be returned and the stack will contain 7,9,5."
   ]
  },
  {
   "cell_type": "code",
   "execution_count": 50,
   "metadata": {},
   "outputs": [],
   "source": [
    "s.push(7)"
   ]
  },
  {
   "cell_type": "code",
   "execution_count": 51,
   "metadata": {},
   "outputs": [
    {
     "name": "stdout",
     "output_type": "stream",
     "text": [
      "7, 9, 5\n"
     ]
    }
   ],
   "source": [
    "print(s)"
   ]
  },
  {
   "cell_type": "markdown",
   "metadata": {},
   "source": [
    "After the following operation, nothing will be returned and the stack will contain 6,7,9,5."
   ]
  },
  {
   "cell_type": "code",
   "execution_count": 52,
   "metadata": {},
   "outputs": [],
   "source": [
    "s.push(6)"
   ]
  },
  {
   "cell_type": "code",
   "execution_count": 53,
   "metadata": {},
   "outputs": [
    {
     "name": "stdout",
     "output_type": "stream",
     "text": [
      "6, 7, 9, 5\n"
     ]
    }
   ],
   "source": [
    "print(s)"
   ]
  },
  {
   "cell_type": "markdown",
   "metadata": {},
   "source": [
    "After the following operation, 6 will be returned and the stack will contain 7,9,5."
   ]
  },
  {
   "cell_type": "code",
   "execution_count": 54,
   "metadata": {},
   "outputs": [
    {
     "data": {
      "text/plain": [
       "6"
      ]
     },
     "execution_count": 54,
     "metadata": {},
     "output_type": "execute_result"
    }
   ],
   "source": [
    "s.pop()"
   ]
  },
  {
   "cell_type": "code",
   "execution_count": 55,
   "metadata": {},
   "outputs": [
    {
     "name": "stdout",
     "output_type": "stream",
     "text": [
      "7, 9, 5\n"
     ]
    }
   ],
   "source": [
    "print(s)"
   ]
  },
  {
   "cell_type": "markdown",
   "metadata": {},
   "source": [
    "After the following operation, 7 will be returned and the stack will contain 9,5."
   ]
  },
  {
   "cell_type": "code",
   "execution_count": 56,
   "metadata": {},
   "outputs": [
    {
     "data": {
      "text/plain": [
       "7"
      ]
     },
     "execution_count": 56,
     "metadata": {},
     "output_type": "execute_result"
    }
   ],
   "source": [
    "s.pop()"
   ]
  },
  {
   "cell_type": "code",
   "execution_count": 57,
   "metadata": {},
   "outputs": [
    {
     "name": "stdout",
     "output_type": "stream",
     "text": [
      "9, 5\n"
     ]
    }
   ],
   "source": [
    "print(s)"
   ]
  },
  {
   "cell_type": "markdown",
   "metadata": {},
   "source": [
    "After the following operation, nothing will be returned and the stack will contain 4,9,5."
   ]
  },
  {
   "cell_type": "code",
   "execution_count": 58,
   "metadata": {},
   "outputs": [],
   "source": [
    "s.push(4)"
   ]
  },
  {
   "cell_type": "code",
   "execution_count": 59,
   "metadata": {},
   "outputs": [
    {
     "name": "stdout",
     "output_type": "stream",
     "text": [
      "4, 9, 5\n"
     ]
    }
   ],
   "source": [
    "print(s)"
   ]
  },
  {
   "cell_type": "markdown",
   "metadata": {},
   "source": [
    "After the following operation, 4 will be returned and the stack will contain 9,5."
   ]
  },
  {
   "cell_type": "code",
   "execution_count": 60,
   "metadata": {},
   "outputs": [
    {
     "data": {
      "text/plain": [
       "4"
      ]
     },
     "execution_count": 60,
     "metadata": {},
     "output_type": "execute_result"
    }
   ],
   "source": [
    "s.pop()"
   ]
  },
  {
   "cell_type": "code",
   "execution_count": 61,
   "metadata": {},
   "outputs": [
    {
     "name": "stdout",
     "output_type": "stream",
     "text": [
      "9, 5\n"
     ]
    }
   ],
   "source": [
    "print(s)"
   ]
  },
  {
   "cell_type": "markdown",
   "metadata": {},
   "source": [
    "After the following operation, 9 will be returned and the stack will contain 5."
   ]
  },
  {
   "cell_type": "code",
   "execution_count": 62,
   "metadata": {},
   "outputs": [
    {
     "data": {
      "text/plain": [
       "9"
      ]
     },
     "execution_count": 62,
     "metadata": {},
     "output_type": "execute_result"
    }
   ],
   "source": [
    "s.pop()"
   ]
  },
  {
   "cell_type": "code",
   "execution_count": 63,
   "metadata": {},
   "outputs": [
    {
     "name": "stdout",
     "output_type": "stream",
     "text": [
      "5\n"
     ]
    }
   ],
   "source": [
    "print(s)"
   ]
  },
  {
   "cell_type": "markdown",
   "metadata": {},
   "source": [
    "After performing the above operations, we finish we a stack containing only the element 5."
   ]
  },
  {
   "cell_type": "markdown",
   "metadata": {},
   "source": [
    "**3) Suppose an initally empty stack S has executed a total of 35 push operations, 15 top operations and 10 pop operations, 3 of which riased Empty errors that were caught and ignored. What is the current size of S?**"
   ]
  },
  {
   "cell_type": "markdown",
   "metadata": {},
   "source": [
    "An initally empty stack which executes 35 push operations will then contain 35 elements. Top operations return the element at the top of the stack but don't remove it from the stack so these operations do not change the number of elements the stack. If 10 pop operations are performed but 3 are ignored due to empty errors then a total of 7 pop operations are performed. The pop method returns and removes the top element from the stack. As a result, the current size of the stack will be 28. This answer assumes that the operations were not executed in the order in which they were described and thus empty errors could have occurred throughout. "
   ]
  },
  {
   "cell_type": "markdown",
   "metadata": {},
   "source": [
    "### Conclusion\n",
    "\n",
    "This has been a very enjoyable assignment. I have gained a much deeper understanding of the nature and use of linked lists and stacks. I have learned a lot from implementing some extra methods and from using the linked list to implement the stack ADT. I have provided testing throughout to ensure that my classes are working correctly. Overall, this has been a very rewarding experience. "
   ]
  }
 ],
 "metadata": {
  "kernelspec": {
   "display_name": "Python 3",
   "language": "python",
   "name": "python3"
  },
  "language_info": {
   "codemirror_mode": {
    "name": "ipython",
    "version": 3
   },
   "file_extension": ".py",
   "mimetype": "text/x-python",
   "name": "python",
   "nbconvert_exporter": "python",
   "pygments_lexer": "ipython3",
   "version": "3.7.4"
  }
 },
 "nbformat": 4,
 "nbformat_minor": 2
}
