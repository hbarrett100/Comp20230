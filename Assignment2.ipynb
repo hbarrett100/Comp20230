{
 "cells": [
  {
   "cell_type": "code",
   "execution_count": null,
   "metadata": {},
   "outputs": [],
   "source": []
  },
  {
   "cell_type": "code",
   "execution_count": 36,
   "metadata": {},
   "outputs": [],
   "source": [
    "class Node: \n",
    "    '''Create a singly linked node'''\n",
    "    \n",
    "    def __init__ (self, element, next_element):\n",
    "        self.element = element #reference to the element\n",
    "        self.next_element = next_element #reference to the next element"
   ]
  },
  {
   "cell_type": "code",
   "execution_count": 37,
   "metadata": {},
   "outputs": [],
   "source": [
    "class myLinkedList: \n",
    "    ''' Create a linked list'''\n",
    "    \n",
    "    def __init__ (self):\n",
    "        '''initialise the linked list attributes'''\n",
    "        self.head = None #initalise head to None\n",
    "        self.size = 0 #initialise the size of the list to zero\n",
    "        self.tail = None #initialise the tail to None\n",
    "        \n",
    "    def add_first(self, element):\n",
    "        '''insert element at head of the linked list'''\n",
    "        new_node = Node(element, self.head) #create an instance of the Node class\n",
    "        self.head = new_node #set the head of the list equal to the new node\n",
    "        if self.size == 0: #if the list was empty the new head is also the tail\n",
    "            self.tail = self.head \n",
    "        self.size += 1 #increment the size of the linked list \n",
    "        \n",
    "    def add_last(self, element):\n",
    "        '''insert element at tail of the linked list'''\n",
    "        new_node = Node(element, None) #create an instance of the Node class\n",
    "        if self.size == 0: #if the list was empty, the tail is equal to the new node\n",
    "            self.tail = new_node\n",
    "            self.head = self.tail #head is equal to the tail \n",
    "        else:\n",
    "            #if list wasn't empty then the element next to the tail is the new node\n",
    "            self.tail.next_element = new_node \n",
    "            self.tail = new_node #tail is equal to the new node\n",
    "        self.size += 1 #increment the size of the linked list\n",
    "           \n",
    "    def remove_first(self):\\\n",
    "        '''remove the head of the linked list\n",
    "        \n",
    "        return an error if the list is empty'''\n",
    "        if self.head == None:\n",
    "            print(\"Error. The list is empty\")\n",
    "        else: \n",
    "            self.head = self.head.next_element #the head is equal to the next element\n",
    "        self.size -= 1 #decrement the size of the linked list\n",
    "    \n",
    "    def list_traversal(self):\n",
    "        '''print out all elements of the linked list'''\n",
    "        current = self.head #set current equal to the head \n",
    "        while current is not None: #while the head is not None\n",
    "            print(current.element) #print the current element\n",
    "            current = current.next_element #current element is equal to next element"
   ]
  },
  {
   "cell_type": "code",
   "execution_count": 38,
   "metadata": {},
   "outputs": [],
   "source": [
    "l = myLinkedList()"
   ]
  },
  {
   "cell_type": "code",
   "execution_count": 39,
   "metadata": {},
   "outputs": [],
   "source": [
    "l.add_first(\"Hannah\")"
   ]
  },
  {
   "cell_type": "code",
   "execution_count": 40,
   "metadata": {},
   "outputs": [],
   "source": [
    "l.add_last(\"Blob\")"
   ]
  },
  {
   "cell_type": "code",
   "execution_count": 41,
   "metadata": {},
   "outputs": [],
   "source": [
    "l.add_last(\"jiji\")\n"
   ]
  },
  {
   "cell_type": "code",
   "execution_count": 42,
   "metadata": {},
   "outputs": [
    {
     "data": {
      "text/plain": [
       "3"
      ]
     },
     "execution_count": 42,
     "metadata": {},
     "output_type": "execute_result"
    }
   ],
   "source": [
    "l.size"
   ]
  },
  {
   "cell_type": "code",
   "execution_count": 43,
   "metadata": {},
   "outputs": [
    {
     "name": "stdout",
     "output_type": "stream",
     "text": [
      "Hannah\n"
     ]
    }
   ],
   "source": [
    "l.list_traversal()"
   ]
  },
  {
   "cell_type": "raw",
   "metadata": {},
   "source": []
  },
  {
   "cell_type": "markdown",
   "metadata": {},
   "source": [
    "### Part 1 Q2\n",
    "\n",
    "**Define in your own words the terms stack ADT and queue ADT**\n",
    "\n",
    "- A stack ADT is a collection of elements that are added and removed from one end only, known as the \"top\". In other words, the stack follows the last-in, first-out principle.\n",
    "\n",
    "- A queue ADT is a collection of elements which follow the first-in, first-out principle. Elements are added to one end of the queue and removed from the other end. Only the element that has been in the queue the longest is removed. \n",
    "\n",
    "**List the key operations and support operations commonly associated with the ADTs**\n",
    "\n",
    "Stack ADT: \n",
    "- The key operations are push() and pop().\n",
    "- The support operations are top(), is_empty() and len().\n",
    "\n",
    "Queue ADT:\n",
    "- The key operations are enqueue() and dequeue().\n",
    "- The support operations are first(), is_empty() and len().\n",
    "\n",
    "**For each ADT give two real world examples and explain them briefly**\n",
    "\n",
    "Stack ADT:\n",
    "- Example 1: The stack ADT is used in the validation of markup languages such as HTML. A HTML document contains 'HTML tags' throughout in order to delimit portions of text such a headers and paragraphs. The beginning tag is surrounded by \"<\" and \">\" and the ending tag begins with \"</\" and ends with \">\". A HTML document should have matching tags and this is where the stack ADT is used. The document is searhced and all opening tags \"<\" are pushed on to the stack. They are then matched with closing tags as they are popped from the stack. (REF BOOK)\n",
    "- Example 2: As described at https://pdfs.semanticscholar.org/ce46/fd8d181c71eb192c5a8f75f716281669226c.pdf, the stack ADT is used to navigate back/forward to different web pages on a web browser. Essentially, a stack of visited pages is created. Clicking on or typing a link adds a webpage to the top of the stack. When the back button is pressed, the stack pointer moves down the stack pile and disaplys the webpage at that stack location. Similarly, when the forward button is pressed, the stack pointer moves up the stack pile. If a user is on a webpage inside the stack and they type or click on a new link, all webpages above the current position are popped off the stack and the new one is pushed on top. \n",
    "\n",
    "\n",
    "Queue ADT:\n",
    "- Example 1: As described at http://people.cs.ksu.edu/~schmidt/300s05/Lectures/Week5.html, one use for the queue ADT is the a networked printer. The operating system forms a queue of processes which are waiting to use the printer. Once a process is using the printer, it can continue until finished. The unique id of all other waiting processes are kept in the queue. Once the current process is finished using the printer, the process id that has been in the queue the longest can now use the printer.\n",
    "- Example 2: The operating system manages the CPU with a queue of processes. "
   ]
  },
  {
   "cell_type": "markdown",
   "metadata": {},
   "source": [
    "### Part 2: Stack ADT\n",
    "\n",
    "**1) Adopt the ADT concepts from part 1 above to provide a complete implementation of a stack ADT.**\n",
    "\n",
    "In the cell below I implement a stack ADT. As elements are added to and removed from the same end of the stack, I use a list to implement this structure. Elements can be added to the end of the list using the append method and can be removed from the same end of the list using the pop method.\n",
    "\n",
    "I create a class called ```MyStack``` which has has methods ```push()```, ```pop()```, ```top()```, ```is_empty()``` and ```len()```.  "
   ]
  },
  {
   "cell_type": "code",
   "execution_count": 1,
   "metadata": {},
   "outputs": [],
   "source": [
    "class MyStack:\n",
    "    '''Implementation of a stack using a python list'''\n",
    "    \n",
    "    def __init__(self):\n",
    "        '''create empty stack'''\n",
    "        self.data = [] #create an empty list\n",
    "        \n",
    "    def push(self, element):\n",
    "        '''Add element to top of stack'''\n",
    "        self.data.append(element) #append element to end of list\n",
    "        \n",
    "    def pop(self):\n",
    "        '''remove and return element from top of stack.\n",
    "        \n",
    "        Return an error if the list is empty.'''\n",
    "        if len(self.data) == 0:\n",
    "            print(\"Error. Stack is empty.\")\n",
    "        else:\n",
    "            return self.data.pop() #remove last element from the list\n",
    "        \n",
    "    def top(self):\n",
    "        '''return but do not remove the last element from the stack\n",
    "        \n",
    "        Return an error if the list is empty'''\n",
    "        if len(self.data)==0:\n",
    "            print(\"Error. The stack is empty\")\n",
    "        return self.data[-1] #return the last element from the list\n",
    "    \n",
    "    def is_empty(self):\n",
    "        '''return true if the stack is empty'''\n",
    "        return len(self.data) == 0 #return true if the length of the list is zero\n",
    "    \n",
    "    def __len__ (self):\n",
    "        '''return the number of elements in the stack'''\n",
    "        return len(self.data) #return the length of the list"
   ]
  },
  {
   "cell_type": "markdown",
   "metadata": {},
   "source": [
    "**2) What values are returned when the following series of stack operations is executed upon an initially empty stack?**\n",
    "\n",
    "In the cell below I will create an empty stack s."
   ]
  },
  {
   "cell_type": "code",
   "execution_count": 2,
   "metadata": {},
   "outputs": [],
   "source": [
    "#create empty stack\n",
    "s = MyStack()"
   ]
  },
  {
   "cell_type": "markdown",
   "metadata": {},
   "source": [
    "I will now perform a series of operations on this stack and will document the expected output throughout. \n",
    "\n",
    "After the following operation, nothing will be returned and the stack will contain [5]"
   ]
  },
  {
   "cell_type": "code",
   "execution_count": 3,
   "metadata": {},
   "outputs": [],
   "source": [
    "s.push(5)"
   ]
  },
  {
   "cell_type": "markdown",
   "metadata": {},
   "source": [
    "After the following operation, nothing will be returned and the stack will contain [5,3]"
   ]
  },
  {
   "cell_type": "code",
   "execution_count": 4,
   "metadata": {},
   "outputs": [],
   "source": [
    "s.push(3)"
   ]
  },
  {
   "cell_type": "markdown",
   "metadata": {},
   "source": [
    "After the following operation, 3 will be returned and the stack will contain [5]"
   ]
  },
  {
   "cell_type": "code",
   "execution_count": 5,
   "metadata": {},
   "outputs": [
    {
     "data": {
      "text/plain": [
       "3"
      ]
     },
     "execution_count": 5,
     "metadata": {},
     "output_type": "execute_result"
    }
   ],
   "source": [
    "s.pop()"
   ]
  },
  {
   "cell_type": "markdown",
   "metadata": {},
   "source": [
    "After the following operation, nothing will be returned and the stack will contain [5,2]"
   ]
  },
  {
   "cell_type": "code",
   "execution_count": 6,
   "metadata": {},
   "outputs": [],
   "source": [
    "s.push(2)"
   ]
  },
  {
   "cell_type": "markdown",
   "metadata": {},
   "source": [
    "After the following operation, nothing will be returned and the stack will contain [5,2,8]"
   ]
  },
  {
   "cell_type": "code",
   "execution_count": 7,
   "metadata": {},
   "outputs": [],
   "source": [
    "s.push(8)"
   ]
  },
  {
   "cell_type": "markdown",
   "metadata": {},
   "source": [
    "After the following operation, 8 will be returned and the stack will contain [5,2]"
   ]
  },
  {
   "cell_type": "code",
   "execution_count": 8,
   "metadata": {},
   "outputs": [
    {
     "data": {
      "text/plain": [
       "8"
      ]
     },
     "execution_count": 8,
     "metadata": {},
     "output_type": "execute_result"
    }
   ],
   "source": [
    "s.pop()"
   ]
  },
  {
   "cell_type": "markdown",
   "metadata": {},
   "source": [
    "After the following operation, 2 will be returned and the stack will contain [5]"
   ]
  },
  {
   "cell_type": "code",
   "execution_count": 9,
   "metadata": {},
   "outputs": [
    {
     "data": {
      "text/plain": [
       "2"
      ]
     },
     "execution_count": 9,
     "metadata": {},
     "output_type": "execute_result"
    }
   ],
   "source": [
    "s.pop()"
   ]
  },
  {
   "cell_type": "markdown",
   "metadata": {},
   "source": [
    "After the following operation, nothing will be returned and the stack will contain [5,9]"
   ]
  },
  {
   "cell_type": "code",
   "execution_count": 10,
   "metadata": {},
   "outputs": [],
   "source": [
    "s.push(9)"
   ]
  },
  {
   "cell_type": "markdown",
   "metadata": {},
   "source": [
    "After the following operation, nothing will be returned and the stack will contain [5,9,1]"
   ]
  },
  {
   "cell_type": "code",
   "execution_count": 11,
   "metadata": {},
   "outputs": [],
   "source": [
    "s.push(1)"
   ]
  },
  {
   "cell_type": "markdown",
   "metadata": {},
   "source": [
    "After the following operation, 1 will be returned and the stack will contain [5,9]"
   ]
  },
  {
   "cell_type": "code",
   "execution_count": 12,
   "metadata": {},
   "outputs": [
    {
     "data": {
      "text/plain": [
       "1"
      ]
     },
     "execution_count": 12,
     "metadata": {},
     "output_type": "execute_result"
    }
   ],
   "source": [
    "s.pop()"
   ]
  },
  {
   "cell_type": "markdown",
   "metadata": {},
   "source": [
    "After the following operation, nothing will be returned and the stack will contain [5,9,7]"
   ]
  },
  {
   "cell_type": "code",
   "execution_count": 13,
   "metadata": {},
   "outputs": [],
   "source": [
    "s.push(7)"
   ]
  },
  {
   "cell_type": "markdown",
   "metadata": {},
   "source": [
    "After the following operation, nothing will be returned and the stack will contain [5,9,7,6]"
   ]
  },
  {
   "cell_type": "code",
   "execution_count": 14,
   "metadata": {},
   "outputs": [],
   "source": [
    "s.push(6)"
   ]
  },
  {
   "cell_type": "markdown",
   "metadata": {},
   "source": [
    "After the following operation, 6 will be returned and the stack will contain [5,9,7]"
   ]
  },
  {
   "cell_type": "code",
   "execution_count": 15,
   "metadata": {},
   "outputs": [
    {
     "data": {
      "text/plain": [
       "6"
      ]
     },
     "execution_count": 15,
     "metadata": {},
     "output_type": "execute_result"
    }
   ],
   "source": [
    "s.pop()"
   ]
  },
  {
   "cell_type": "markdown",
   "metadata": {},
   "source": [
    "After the following operation, 7 will be returned and the stack will contain [5,9]"
   ]
  },
  {
   "cell_type": "code",
   "execution_count": 16,
   "metadata": {},
   "outputs": [
    {
     "data": {
      "text/plain": [
       "7"
      ]
     },
     "execution_count": 16,
     "metadata": {},
     "output_type": "execute_result"
    }
   ],
   "source": [
    "s.pop()"
   ]
  },
  {
   "cell_type": "markdown",
   "metadata": {},
   "source": [
    "After the following operation, nothing will be returned and the stack will contain [5,9,4]"
   ]
  },
  {
   "cell_type": "code",
   "execution_count": 17,
   "metadata": {},
   "outputs": [],
   "source": [
    "s.push(4)"
   ]
  },
  {
   "cell_type": "markdown",
   "metadata": {},
   "source": [
    "After the following operation, 4 will be returned and the stack will contain [5,9]"
   ]
  },
  {
   "cell_type": "code",
   "execution_count": 18,
   "metadata": {},
   "outputs": [
    {
     "data": {
      "text/plain": [
       "4"
      ]
     },
     "execution_count": 18,
     "metadata": {},
     "output_type": "execute_result"
    }
   ],
   "source": [
    "s.pop()"
   ]
  },
  {
   "cell_type": "markdown",
   "metadata": {},
   "source": [
    "After the following operation, 9 will be returned and the stack will contain [5]"
   ]
  },
  {
   "cell_type": "code",
   "execution_count": 19,
   "metadata": {},
   "outputs": [
    {
     "data": {
      "text/plain": [
       "9"
      ]
     },
     "execution_count": 19,
     "metadata": {},
     "output_type": "execute_result"
    }
   ],
   "source": [
    "s.pop()"
   ]
  },
  {
   "cell_type": "markdown",
   "metadata": {},
   "source": [
    "After performing the above operations, we finish we a stack containing only the element 5."
   ]
  },
  {
   "cell_type": "markdown",
   "metadata": {},
   "source": [
    "**3) Suppose an initally empty stack S has executed a total of 35 push operations, 15 top operations and 10 pop operations, 3 of which riased Empty errors that were caught and ignored. What is the current size of S?**"
   ]
  },
  {
   "cell_type": "markdown",
   "metadata": {},
   "source": [
    "An initally empty stack which executes 35 push operations will then contain 35 elements. Top operations return the element at the top of the stack but don't remove it from the stack so these operations do not change the number of elements the stack. If 10 pop operations are performed but 3 are ignored due to empty errors then a total of 7 pop operations are performed. The pop method returns and removes the top element from the stack. As a result, the current size of the stack will be 28."
   ]
  },
  {
   "cell_type": "code",
   "execution_count": null,
   "metadata": {},
   "outputs": [],
   "source": []
  }
 ],
 "metadata": {
  "kernelspec": {
   "display_name": "Python 3",
   "language": "python",
   "name": "python3"
  },
  "language_info": {
   "codemirror_mode": {
    "name": "ipython",
    "version": 3
   },
   "file_extension": ".py",
   "mimetype": "text/x-python",
   "name": "python",
   "nbconvert_exporter": "python",
   "pygments_lexer": "ipython3",
   "version": "3.7.4"
  }
 },
 "nbformat": 4,
 "nbformat_minor": 2
}
